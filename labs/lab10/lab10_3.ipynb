{
 "cells": [
  {
   "cell_type": "code",
   "execution_count": 1,
   "metadata": {
    "collapsed": true
   },
   "outputs": [],
   "source": [
    "import json\n",
    "from pprint import pprint"
   ]
  },
  {
   "cell_type": "code",
   "execution_count": 3,
   "outputs": [
    {
     "name": "stdout",
     "output_type": "stream",
     "text": [
      "{'ietf-interfaces:interfaces': {'interface': [{'enabled': True,\n",
      "                                               'ietf-ip:ipv4': {'address': [{'ip': '198.18.134.11',\n",
      "                                                                             'netmask': '255.255.192.0'}]},\n",
      "                                               'ietf-ip:ipv6': {},\n",
      "                                               'name': 'GigabitEthernet1',\n",
      "                                               'type': 'iana-if-type:ethernetCsmacd'},\n",
      "                                              {'enabled': True,\n",
      "                                               'ietf-ip:ipv4': {'address': [{'ip': '172.16.255.1',\n",
      "                                                                             'netmask': '255.255.255.0'}]},\n",
      "                                               'ietf-ip:ipv6': {},\n",
      "                                               'name': 'GigabitEthernet2',\n",
      "                                               'type': 'iana-if-type:ethernetCsmacd'},\n",
      "                                              {'description': 'loop 0',\n",
      "                                               'enabled': True,\n",
      "                                               'ietf-ip:ipv4': {'address': [{'ip': '10.0.0.1',\n",
      "                                                                             'netmask': '255.255.255.255'}]},\n",
      "                                               'ietf-ip:ipv6': {},\n",
      "                                               'name': 'Loopback0',\n",
      "                                               'type': 'iana-if-type:softwareLoopback'}]}}\n"
     ]
    }
   ],
   "source": [
    "with open('interfaces.json') as file:\n",
    "    json_data = json.loads(file.read())\n",
    "    pprint(json_data)"
   ],
   "metadata": {
    "collapsed": false
   }
  },
  {
   "cell_type": "code",
   "execution_count": 4,
   "outputs": [
    {
     "name": "stdout",
     "output_type": "stream",
     "text": [
      "GigabitEthernet1\n",
      "GigabitEthernet2\n",
      "Loopback0\n"
     ]
    }
   ],
   "source": [
    "for interface in json_data['ietf-interfaces:interfaces']['interface']:\n",
    "    print(interface['name'])"
   ],
   "metadata": {
    "collapsed": false
   }
  },
  {
   "cell_type": "code",
   "execution_count": 5,
   "outputs": [
    {
     "name": "stdout",
     "output_type": "stream",
     "text": [
      "GigabitEthernet1: 198.18.134.11 255.255.192.0\n",
      "GigabitEthernet2: 172.16.255.1 255.255.255.0\n",
      "Loopback0: 10.0.0.1 255.255.255.255\n"
     ]
    }
   ],
   "source": [
    "for interface in json_data['ietf-interfaces:interfaces']['interface']:\n",
    "    address = interface['ietf-ip:ipv4']['address'][0]\n",
    "    print(f\"{interface['name']}: {address['ip']} {address['netmask']}\")"
   ],
   "metadata": {
    "collapsed": false
   }
  }
 ],
 "metadata": {
  "kernelspec": {
   "display_name": "Python 3",
   "language": "python",
   "name": "python3"
  },
  "language_info": {
   "codemirror_mode": {
    "name": "ipython",
    "version": 2
   },
   "file_extension": ".py",
   "mimetype": "text/x-python",
   "name": "python",
   "nbconvert_exporter": "python",
   "pygments_lexer": "ipython2",
   "version": "2.7.6"
  }
 },
 "nbformat": 4,
 "nbformat_minor": 0
}
