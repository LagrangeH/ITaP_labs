{
 "cells": [
  {
   "cell_type": "markdown",
   "source": [
    "Пункты 2-4"
   ],
   "metadata": {
    "collapsed": false
   }
  },
  {
   "cell_type": "code",
   "execution_count": 1,
   "metadata": {
    "collapsed": true
   },
   "outputs": [
    {
     "name": "stdout",
     "output_type": "stream",
     "text": [
      "Cisco 819 Router\n",
      "Cisco 881 Router\n",
      "Cisco 888 Router\n",
      "Cisco 1100 Router\n",
      "Cisco 4321 Router\n",
      "Cisco 4331 Router\n",
      "Cisco 4351 Router\n",
      "Cisco 2960 Catalyst Switch\n",
      "Cisco 3850 Catalyst Switch\n",
      "Cisco 7700 Nexus Switch\n",
      "Cisco Meraki MS220-8 Cloud Managed Switch\n",
      "Cisco Meraki MX64W Security Appliance\n",
      "Cisco Meraki MX84 Security Appliance\n",
      "Cisco Meraki MC74 VoIP Phone\n",
      "Cisco 3860 Catalyst Switch\n"
     ]
    }
   ],
   "source": [
    "list_devices = []\n",
    "file = open('devices.txt', 'rt')\n",
    "for item in file:\n",
    "    item.strip()\n",
    "    list_devices.append(item)\n",
    "    print(item, end='')\n",
    "file.close()"
   ]
  },
  {
   "cell_type": "code",
   "execution_count": 2,
   "outputs": [
    {
     "name": "stdout",
     "output_type": "stream",
     "text": [
      "list_devices = ['Cisco 819 Router\\n', 'Cisco 881 Router\\n', 'Cisco 888 Router\\n', 'Cisco 1100 Router\\n', 'Cisco 4321 Router\\n', 'Cisco 4331 Router\\n', 'Cisco 4351 Router\\n', 'Cisco 2960 Catalyst Switch\\n', 'Cisco 3850 Catalyst Switch\\n', 'Cisco 7700 Nexus Switch\\n', 'Cisco Meraki MS220-8 Cloud Managed Switch\\n', 'Cisco Meraki MX64W Security Appliance\\n', 'Cisco Meraki MX84 Security Appliance\\n', 'Cisco Meraki MC74 VoIP Phone\\n', 'Cisco 3860 Catalyst Switch\\n']\n"
     ]
    }
   ],
   "source": [
    "print(f\"{list_devices = }\")"
   ],
   "metadata": {
    "collapsed": false
   }
  },
  {
   "cell_type": "markdown",
   "source": [
    "Пункты 5-8"
   ],
   "metadata": {
    "collapsed": false
   }
  },
  {
   "cell_type": "code",
   "execution_count": 3,
   "outputs": [],
   "source": [
    "with open('devices.txt', 'r+') as file_2:\n",
    "    old_file = file_2.readlines()\n",
    "    file_2.seek(0)\n",
    "    file_2.write(\"/---START---/\\n\")\n",
    "    for line in old_file:\n",
    "        file_2.write(line)\n",
    "    file_2.write(\"/---END---/\\n\")"
   ],
   "metadata": {
    "collapsed": false
   }
  },
  {
   "cell_type": "code",
   "execution_count": 4,
   "outputs": [
    {
     "name": "stdout",
     "output_type": "stream",
     "text": [
      "/---START---/\n",
      "Cisco 819 Router\n",
      "Cisco 881 Router\n",
      "Cisco 888 Router\n",
      "Cisco 1100 Router\n",
      "Cisco 4321 Router\n",
      "Cisco 4331 Router\n",
      "Cisco 4351 Router\n",
      "Cisco 2960 Catalyst Switch\n",
      "Cisco 3850 Catalyst Switch\n",
      "Cisco 7700 Nexus Switch\n",
      "Cisco Meraki MS220-8 Cloud Managed Switch\n",
      "Cisco Meraki MX64W Security Appliance\n",
      "Cisco Meraki MX84 Security Appliance\n",
      "Cisco Meraki MC74 VoIP Phone\n",
      "Cisco 3860 Catalyst Switch\n",
      "/---END---/\n"
     ]
    }
   ],
   "source": [
    "with open('devices.txt', 'rt') as file_r:\n",
    "    print(file_r.read(), end='')"
   ],
   "metadata": {
    "collapsed": false
   }
  }
 ],
 "metadata": {
  "kernelspec": {
   "display_name": "Python 3",
   "language": "python",
   "name": "python3"
  },
  "language_info": {
   "codemirror_mode": {
    "name": "ipython",
    "version": 2
   },
   "file_extension": ".py",
   "mimetype": "text/x-python",
   "name": "python",
   "nbconvert_exporter": "python",
   "pygments_lexer": "ipython2",
   "version": "2.7.6"
  }
 },
 "nbformat": 4,
 "nbformat_minor": 0
}
