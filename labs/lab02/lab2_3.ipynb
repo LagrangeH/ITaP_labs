{
 "cells": [
  {
   "cell_type": "code",
   "execution_count": 1,
   "metadata": {
    "collapsed": true
   },
   "outputs": [],
   "source": [
    "from random import randint"
   ]
  },
  {
   "cell_type": "code",
   "execution_count": 2,
   "outputs": [
    {
     "name": "stdout",
     "output_type": "stream",
     "text": [
      "Sorted ACL list: [13, 35, 44, 90, 94, 160, 165, 175, 189, 190]\n"
     ]
    }
   ],
   "source": [
    "acl_list = [randint(1, 199) for i in range(10)]\n",
    "acl_list.sort()\n",
    "print(f\"Sorted ACL list: {acl_list}\")"
   ],
   "metadata": {
    "collapsed": false
   }
  },
  {
   "cell_type": "code",
   "execution_count": 3,
   "outputs": [],
   "source": [
    "acl_list.insert(-1, acl_list.pop(0))\n",
    "acl_list.insert(0, acl_list.pop())"
   ],
   "metadata": {
    "collapsed": false
   }
  },
  {
   "cell_type": "code",
   "execution_count": 4,
   "outputs": [
    {
     "name": "stdout",
     "output_type": "stream",
     "text": [
      "Reversed ACL list with method reverse: [13, 189, 175, 165, 160, 94, 90, 44, 35, 190]\n",
      "Reversed ACL list with slices: [13, 189, 175, 165, 160, 94, 90, 44, 35, 190]\n"
     ]
    }
   ],
   "source": [
    "acl_list.reverse()\n",
    "print(f\"Reversed ACL list with method reverse: {acl_list}\")\n",
    "acl_list = acl_list[::-1]\n",
    "print(f\"Reversed ACL list with slices: {acl_list[::-1]}\")"
   ],
   "metadata": {
    "collapsed": false
   }
  },
  {
   "cell_type": "markdown",
   "source": [
    "Принимая факт, что точно известно, что длина списка равна 10"
   ],
   "metadata": {
    "collapsed": false
   }
  },
  {
   "cell_type": "code",
   "execution_count": 5,
   "outputs": [
    {
     "name": "stdout",
     "output_type": "stream",
     "text": [
      "acl_list1 = [190, 35, 44, 90, 94]\n",
      "acl_list2 = [160, 165, 175, 189, 13]\n"
     ]
    }
   ],
   "source": [
    "acl_list1, acl_list2 = acl_list[:5], acl_list[5:]\n",
    "print(f'{acl_list1 = }\\n{acl_list2 = }')"
   ],
   "metadata": {
    "collapsed": false
   }
  }
 ],
 "metadata": {
  "kernelspec": {
   "display_name": "Python 3",
   "language": "python",
   "name": "python3"
  },
  "language_info": {
   "codemirror_mode": {
    "name": "ipython",
    "version": 2
   },
   "file_extension": ".py",
   "mimetype": "text/x-python",
   "name": "python",
   "nbconvert_exporter": "python",
   "pygments_lexer": "ipython2",
   "version": "2.7.6"
  }
 },
 "nbformat": 4,
 "nbformat_minor": 0
}
