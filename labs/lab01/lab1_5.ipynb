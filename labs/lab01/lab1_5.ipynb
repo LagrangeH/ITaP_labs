{
 "cells": [
  {
   "cell_type": "code",
   "execution_count": 1,
   "metadata": {
    "collapsed": true
   },
   "outputs": [
    {
     "name": "stdout",
     "output_type": "stream",
     "text": [
      "Программирование на Python - это\n",
      "весело!\n"
     ]
    }
   ],
   "source": [
    "print(\"Программирование\", \"на Python\", \"- это\")\n",
    "print(\"весело!\")"
   ]
  },
  {
   "cell_type": "code",
   "execution_count": 2,
   "outputs": [
    {
     "name": "stdout",
     "output_type": "stream",
     "text": [
      "Программирование***на Python***- это...весело!\n"
     ]
    }
   ],
   "source": [
    "print(\"Программирование\", \"на Python\", \"- это\", sep='***', end='...')\n",
    "print(\"весело!\")"
   ],
   "metadata": {
    "collapsed": false
   }
  },
  {
   "cell_type": "code",
   "execution_count": 3,
   "outputs": [
    {
     "name": "stdout",
     "output_type": "stream",
     "text": [
      "102.123.234.1\n",
      "123.23.132.23\n",
      "231.123.23.2\n"
     ]
    }
   ],
   "source": [
    "ip_1, ip_2, ip_3 = input(), input(), input()\n",
    "print(ip_1, ip_2, ip_3, sep='\\n')"
   ],
   "metadata": {
    "collapsed": false
   }
  }
 ],
 "metadata": {
  "kernelspec": {
   "display_name": "Python 3",
   "language": "python",
   "name": "python3"
  },
  "language_info": {
   "codemirror_mode": {
    "name": "ipython",
    "version": 2
   },
   "file_extension": ".py",
   "mimetype": "text/x-python",
   "name": "python",
   "nbconvert_exporter": "python",
   "pygments_lexer": "ipython2",
   "version": "2.7.6"
  }
 },
 "nbformat": 4,
 "nbformat_minor": 0
}
