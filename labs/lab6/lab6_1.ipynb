{
 "cells": [
  {
   "cell_type": "code",
   "execution_count": 1,
   "outputs": [],
   "source": [
    "mac1 = \"Internet 10.220.88.29 94 5254.abbe.5b7b ARPA FastEthernet4\"\n",
    "mac2 = \"Internet 10.220.88.30 3 5254.ab71.e119 ARPA FastEthernet4\"\n",
    "mac3 = \"Internet 10.220.88.32 231 5254.abc7.26aa ARPA FastEthernet4\""
   ],
   "metadata": {
    "collapsed": false
   }
  },
  {
   "cell_type": "markdown",
   "source": [
    "Выполним задание, руководствуясь [PEP 3101](https://peps.python.org/pep-3101/)"
   ],
   "metadata": {
    "collapsed": false
   }
  },
  {
   "cell_type": "code",
   "execution_count": 38,
   "outputs": [
    {
     "name": "stdout",
     "output_type": "stream",
     "text": [
      "            IP АДРЕС            MAC АДРЕС\n",
      "-------------------- --------------------\n",
      "        10.220.88.29       5254.abbe.5b7b\n",
      "        10.220.88.30       5254.ab71.e119\n",
      "        10.220.88.32       5254.abc7.26aa\n"
     ]
    }
   ],
   "source": [
    "print(f\"{'IP АДРЕС':>20} {'MAC АДРЕС':>20}\")\n",
    "print(f\"{' ':-^41}\")\n",
    "for data in map(lambda x: x.split(), (mac1, mac2, mac3)):\n",
    "    print(f\"{data[1]:>20} {data[3]:>20}\")"
   ],
   "metadata": {
    "collapsed": false
   }
  }
 ],
 "metadata": {
  "kernelspec": {
   "display_name": "Python 3",
   "language": "python",
   "name": "python3"
  },
  "language_info": {
   "codemirror_mode": {
    "name": "ipython",
    "version": 2
   },
   "file_extension": ".py",
   "mimetype": "text/x-python",
   "name": "python",
   "nbconvert_exporter": "python",
   "pygments_lexer": "ipython2",
   "version": "2.7.6"
  }
 },
 "nbformat": 4,
 "nbformat_minor": 0
}
