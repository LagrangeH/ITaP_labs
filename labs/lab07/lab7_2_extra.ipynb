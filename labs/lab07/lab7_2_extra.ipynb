{
 "cells": [
  {
   "cell_type": "markdown",
   "source": [
    "<b>Данный отчёт является добровольным.</b>\n",
    "Дополнительно рассмотрим другие варианты решения представленной задачи, чтобы найти наиболее эффективный алгоритм"
   ],
   "metadata": {
    "collapsed": false
   }
  },
  {
   "cell_type": "code",
   "execution_count": 1,
   "outputs": [],
   "source": [
    "def with_conditions(mask: str):\n",
    "    if mask == '0':\n",
    "        return \"/1\"\n",
    "    elif mask == '128':\n",
    "        return \"/2\"\n",
    "    elif mask == '192':\n",
    "        return \"/3\"\n",
    "    elif mask == '224':\n",
    "        return \"/4\"\n",
    "    elif mask == '240':\n",
    "        return \"/5\"\n",
    "    elif mask == '248':\n",
    "        return \"/6\"\n",
    "    elif mask == '252':\n",
    "        return \"/7\"\n",
    "    elif mask == '254':\n",
    "        return \"/8\"\n",
    "    else:\n",
    "        return \"Invalid mask\""
   ],
   "metadata": {
    "collapsed": false
   }
  },
  {
   "cell_type": "code",
   "execution_count": 2,
   "outputs": [],
   "source": [
    "def with_match_case(mask: str):\n",
    "    match mask:\n",
    "        case '0':\n",
    "            return \"/1\"\n",
    "        case '128':\n",
    "            return \"/2\"\n",
    "        case '192':\n",
    "            return \"/3\"\n",
    "        case '224':\n",
    "            return \"/4\"\n",
    "        case '240':\n",
    "            return \"/5\"\n",
    "        case '248':\n",
    "            return \"/6\"\n",
    "        case '252':\n",
    "            return \"/7\"\n",
    "        case '254':\n",
    "            return \"/8\"\n",
    "        case _:\n",
    "            return \"Invalid mask\""
   ],
   "metadata": {
    "collapsed": false
   }
  },
  {
   "cell_type": "code",
   "execution_count": 3,
   "outputs": [],
   "source": [
    "def with_dict(mask: str):\n",
    "    return {\n",
    "            '0': '/1',\n",
    "            '128': '/2',\n",
    "            '192': '/3',\n",
    "            '224': '/4',\n",
    "            '240': '/5',\n",
    "            '248': '/6',\n",
    "            '252': '/7',\n",
    "            '254': '/8'\n",
    "    }.get(mask, \"Invalid mask\")"
   ],
   "metadata": {
    "collapsed": false
   }
  },
  {
   "cell_type": "code",
   "execution_count": 4,
   "outputs": [],
   "source": [
    "def with_tuple(mask: str):\n",
    "    try:\n",
    "        return \"/\" + str(('0', '128', '192', '224', '240', '248', '252', '254').index(mask) + 1)\n",
    "    except ValueError:\n",
    "        return \"Invalid mask\""
   ],
   "metadata": {
    "collapsed": false
   }
  },
  {
   "cell_type": "code",
   "execution_count": 5,
   "outputs": [],
   "source": [
    "def counting_ones(mask: str):\n",
    "    # Check that mask contains only digits.\n",
    "    if mask.isdigit():\n",
    "        mask = int(mask)\n",
    "        # Check that mask is valid.\n",
    "        if mask < 255:\n",
    "            # Create numerator\n",
    "            x = 0\n",
    "            # Convert to binary and take only binary part (e.g. 0b1101 -> 1101).\n",
    "            mask = bin(mask)[2:]\n",
    "            # Iterate through mask characters with numeration\n",
    "            for i, n in enumerate(mask):\n",
    "                if n != '1':\n",
    "                    # Check that after '0' only '0'\n",
    "                    if any(mask[i + 1:]):\n",
    "                        return \"Invalid mask\"\n",
    "                    break\n",
    "                x += 1\n",
    "            return '/' + str(x)\n",
    "    return \"Invalid mask\""
   ],
   "metadata": {
    "collapsed": false
   }
  },
  {
   "cell_type": "code",
   "execution_count": 6,
   "outputs": [
    {
     "name": "stdout",
     "output_type": "stream",
     "text": [
      "-------with_conditions--------\n",
      "mask = '192.168.0.0'\n",
      "290 ns ± 74.1 ns per loop (mean ± std. dev. of 7 runs, 1,000,000 loops each)\n",
      "mask = '0.0.0.0'\n",
      "269 ns ± 5.63 ns per loop (mean ± std. dev. of 7 runs, 1,000,000 loops each)\n",
      "mask = 'as;slefk.nflekn3 lke.felk.'\n",
      "260 ns ± 5.18 ns per loop (mean ± std. dev. of 7 runs, 1,000,000 loops each)\n",
      "mask = '99999999999999999999999999999999999999999999999999'\n",
      "260 ns ± 7.09 ns per loop (mean ± std. dev. of 7 runs, 1,000,000 loops each)\n",
      "\n",
      "\n",
      "-------with_match_case--------\n",
      "mask = '192.168.0.0'\n",
      "297 ns ± 10.3 ns per loop (mean ± std. dev. of 7 runs, 1,000,000 loops each)\n",
      "mask = '0.0.0.0'\n",
      "297 ns ± 7.86 ns per loop (mean ± std. dev. of 7 runs, 1,000,000 loops each)\n",
      "mask = 'as;slefk.nflekn3 lke.felk.'\n",
      "287 ns ± 4.43 ns per loop (mean ± std. dev. of 7 runs, 1,000,000 loops each)\n",
      "mask = '99999999999999999999999999999999999999999999999999'\n",
      "288 ns ± 8.18 ns per loop (mean ± std. dev. of 7 runs, 1,000,000 loops each)\n",
      "\n",
      "\n",
      "----------with_dict-----------\n",
      "mask = '192.168.0.0'\n",
      "438 ns ± 11.5 ns per loop (mean ± std. dev. of 7 runs, 1,000,000 loops each)\n",
      "mask = '0.0.0.0'\n",
      "413 ns ± 23.8 ns per loop (mean ± std. dev. of 7 runs, 1,000,000 loops each)\n",
      "mask = 'as;slefk.nflekn3 lke.felk.'\n",
      "397 ns ± 16 ns per loop (mean ± std. dev. of 7 runs, 1,000,000 loops each)\n",
      "mask = '99999999999999999999999999999999999999999999999999'\n",
      "388 ns ± 14.5 ns per loop (mean ± std. dev. of 7 runs, 1,000,000 loops each)\n",
      "\n",
      "\n",
      "----------with_tuple----------\n",
      "mask = '192.168.0.0'\n",
      "424 ns ± 28.3 ns per loop (mean ± std. dev. of 7 runs, 1,000,000 loops each)\n",
      "mask = '0.0.0.0'\n",
      "429 ns ± 15.7 ns per loop (mean ± std. dev. of 7 runs, 1,000,000 loops each)\n",
      "mask = 'as;slefk.nflekn3 lke.felk.'\n",
      "426 ns ± 14.4 ns per loop (mean ± std. dev. of 7 runs, 1,000,000 loops each)\n",
      "mask = '99999999999999999999999999999999999999999999999999'\n",
      "433 ns ± 27.5 ns per loop (mean ± std. dev. of 7 runs, 1,000,000 loops each)\n",
      "\n",
      "\n",
      "--------counting_ones---------\n",
      "mask = '192.168.0.0'\n",
      "145 ns ± 4.97 ns per loop (mean ± std. dev. of 7 runs, 10,000,000 loops each)\n",
      "mask = '0.0.0.0'\n",
      "132 ns ± 8.49 ns per loop (mean ± std. dev. of 7 runs, 10,000,000 loops each)\n",
      "mask = 'as;slefk.nflekn3 lke.felk.'\n",
      "131 ns ± 4.38 ns per loop (mean ± std. dev. of 7 runs, 10,000,000 loops each)\n",
      "mask = '99999999999999999999999999999999999999999999999999'\n",
      "570 ns ± 16.6 ns per loop (mean ± std. dev. of 7 runs, 1,000,000 loops each)\n",
      "\n",
      "\n"
     ]
    }
   ],
   "source": [
    "for func in (\n",
    "    with_conditions,\n",
    "    with_match_case,\n",
    "    with_dict,\n",
    "    with_tuple,\n",
    "    counting_ones,\n",
    "):\n",
    "    print(f\"{func.__name__:-^30}\")\n",
    "    for mask in (\n",
    "        \"192.168.0.0\",\n",
    "        \"0.0.0.0\",\n",
    "        \"as;slefk.nflekn3 lke.felk.\",\n",
    "        \"9\"*50,\n",
    "    ):\n",
    "        print(f\"{mask = }\")\n",
    "        %timeit func(mask)\n",
    "    print('\\n')"
   ],
   "metadata": {
    "collapsed": false
   }
  },
  {
   "cell_type": "markdown",
   "source": [
    "Можем сделать вывод, что в общем функция `counting_ones` наиболее эффективна, а функция `with_tuple` наименее эффективно. Также можно заметить, что при разных значения переменной `mask` эффективность особенно не различается, кроме случая, когда в функцию `counting_ones` передается слишком большое число - по этому параметру наиболее эффективной стала функция `with_conditions`"
   ],
   "metadata": {
    "collapsed": false
   }
  }
 ],
 "metadata": {
  "kernelspec": {
   "display_name": "Python 3",
   "language": "python",
   "name": "python3"
  },
  "language_info": {
   "codemirror_mode": {
    "name": "ipython",
    "version": 2
   },
   "file_extension": ".py",
   "mimetype": "text/x-python",
   "name": "python",
   "nbconvert_exporter": "python",
   "pygments_lexer": "ipython2",
   "version": "2.7.6"
  }
 },
 "nbformat": 4,
 "nbformat_minor": 0
}
