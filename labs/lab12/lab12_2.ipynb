{
 "cells": [
  {
   "cell_type": "code",
   "execution_count": 1,
   "metadata": {
    "collapsed": true
   },
   "outputs": [],
   "source": [
    "def ssh_conn2(ip_address, username, password, device_type='huawei_vrp'):\n",
    "    print(f\"{ip_address = }\\n{username = }\\n{password = }\\n{device_type = }\")"
   ]
  },
  {
   "cell_type": "code",
   "execution_count": 2,
   "outputs": [
    {
     "name": "stdout",
     "output_type": "stream",
     "text": [
      "ip_address = '192.168.0.10'\n",
      "username = 'root'\n",
      "password = 'toor'\n",
      "device_type = 'cisco'\n"
     ]
    }
   ],
   "source": [
    "ssh_conn2(ip_address='192.168.0.10', username='root', password='toor', device_type='cisco')"
   ],
   "metadata": {
    "collapsed": false
   }
  },
  {
   "cell_type": "code",
   "execution_count": 3,
   "outputs": [
    {
     "name": "stdout",
     "output_type": "stream",
     "text": [
      "ip_address = '192.168.0.20'\n",
      "username = 'root'\n",
      "password = 'qwerty'\n",
      "device_type = 'huawei_vrp'\n"
     ]
    }
   ],
   "source": [
    "ssh_conn2(ip_address='192.168.0.20', username='root', password='qwerty')"
   ],
   "metadata": {
    "collapsed": false
   }
  },
  {
   "cell_type": "code",
   "execution_count": 4,
   "outputs": [
    {
     "name": "stdout",
     "output_type": "stream",
     "text": [
      "ip_address = '192.168.0.30'\n",
      "username = 'admin1'\n",
      "password = 'adminadminadmin'\n",
      "device_type = 'apple'\n"
     ]
    }
   ],
   "source": [
    "data = {\n",
    "        'ip_address': '192.168.0.30',\n",
    "        'username': 'admin1',\n",
    "        'password': 'adminadminadmin',\n",
    "        'device_type': 'apple'\n",
    "    }\n",
    "ssh_conn2(**data)"
   ],
   "metadata": {
    "collapsed": false
   }
  }
 ],
 "metadata": {
  "kernelspec": {
   "display_name": "Python 3",
   "language": "python",
   "name": "python3"
  },
  "language_info": {
   "codemirror_mode": {
    "name": "ipython",
    "version": 2
   },
   "file_extension": ".py",
   "mimetype": "text/x-python",
   "name": "python",
   "nbconvert_exporter": "python",
   "pygments_lexer": "ipython2",
   "version": "2.7.6"
  }
 },
 "nbformat": 4,
 "nbformat_minor": 0
}
