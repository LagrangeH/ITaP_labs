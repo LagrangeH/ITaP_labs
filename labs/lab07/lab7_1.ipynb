{
 "cells": [
  {
   "cell_type": "code",
   "execution_count": 5,
   "outputs": [],
   "source": [
    "def main():\n",
    "    user_ip = input(\"Enter IP address in 255.255.255.255 format: \").split('.')\n",
    "    print('.'.join(user_ip))\n",
    "\n",
    "    n = int(user_ip[0])\n",
    "\n",
    "    if n < 128:\n",
    "        return \"A\"\n",
    "    elif n < 192:\n",
    "        return \"B\"\n",
    "    elif n < 224:\n",
    "        return \"C\"\n",
    "    elif n < 240:\n",
    "        return \"D\"\n",
    "    elif n < 255:\n",
    "        return \"E\"\n",
    "    else:\n",
    "        raise ValueError"
   ],
   "metadata": {
    "collapsed": false
   }
  },
  {
   "cell_type": "code",
   "execution_count": 6,
   "outputs": [
    {
     "name": "stdout",
     "output_type": "stream",
     "text": [
      "10.0.0.0\n",
      "IP address belongs to class A\n"
     ]
    }
   ],
   "source": [
    "try:\n",
    "    print(\"IP address belongs to class\", main())\n",
    "except ValueError:\n",
    "    print(\"Invalid IP address entered\")"
   ],
   "metadata": {
    "collapsed": false
   }
  }
 ],
 "metadata": {
  "kernelspec": {
   "display_name": "Python 3",
   "language": "python",
   "name": "python3"
  },
  "language_info": {
   "codemirror_mode": {
    "name": "ipython",
    "version": 2
   },
   "file_extension": ".py",
   "mimetype": "text/x-python",
   "name": "python",
   "nbconvert_exporter": "python",
   "pygments_lexer": "ipython2",
   "version": "2.7.6"
  }
 },
 "nbformat": 4,
 "nbformat_minor": 0
}
