{
 "cells": [
  {
   "cell_type": "code",
   "execution_count": 1,
   "outputs": [],
   "source": [
    "import privy"
   ],
   "metadata": {
    "collapsed": false
   }
  },
  {
   "cell_type": "code",
   "execution_count": 2,
   "outputs": [
    {
     "name": "stdout",
     "output_type": "stream",
     "text": [
      "Package              Version\r\n",
      "-------------------- -----------\r\n",
      "argon2-cffi          21.3.0\r\n",
      "argon2-cffi-bindings 21.2.0\r\n",
      "asttokens            2.0.8\r\n",
      "attrs                22.1.0\r\n",
      "backcall             0.2.0\r\n",
      "beautifulsoup4       4.11.1\r\n",
      "bleach               5.0.1\r\n",
      "cffi                 1.15.1\r\n",
      "colorama             0.4.5\r\n",
      "contourpy            1.0.6\r\n",
      "cryptography         38.0.1\r\n",
      "cycler               0.11.0\r\n",
      "debugpy              1.6.3\r\n",
      "decorator            5.1.1\r\n",
      "defusedxml           0.7.1\r\n",
      "entrypoints          0.4\r\n",
      "executing            1.1.0\r\n",
      "fastjsonschema       2.16.2\r\n",
      "fonttools            4.38.0\r\n",
      "ipykernel            6.16.0\r\n",
      "ipython              8.5.0\r\n",
      "ipython-genutils     0.2.0\r\n",
      "ipywidgets           8.0.2\r\n",
      "jedi                 0.18.1\r\n",
      "Jinja2               3.1.2\r\n",
      "jsonschema           4.16.0\r\n",
      "jupyter              1.0.0\r\n",
      "jupyter_client       7.3.5\r\n",
      "jupyter-console      6.4.4\r\n",
      "jupyter-core         4.11.1\r\n",
      "jupyterlab-pygments  0.2.2\r\n",
      "jupyterlab-widgets   3.0.3\r\n",
      "kiwisolver           1.4.4\r\n",
      "line-profiler        4.0.1\r\n",
      "lxml                 4.9.1\r\n",
      "MarkupSafe           2.1.1\r\n",
      "matplotlib           3.6.2\r\n",
      "matplotlib-inline    0.1.6\r\n",
      "mistune              2.0.4\r\n",
      "mpmath               1.2.1\r\n",
      "nbclient             0.6.8\r\n",
      "nbconvert            7.0.0\r\n",
      "nbformat             5.6.1\r\n",
      "nest-asyncio         1.5.5\r\n",
      "nose                 1.3.7\r\n",
      "notebook             6.4.12\r\n",
      "numpy                1.23.4\r\n",
      "packaging            21.3\r\n",
      "pandas               1.5.1\r\n",
      "pandocfilters        1.5.0\r\n",
      "parso                0.8.3\r\n",
      "pexpect              4.8.0\r\n",
      "pickleshare          0.7.5\r\n",
      "Pillow               9.3.0\r\n",
      "pip                  22.3.1\r\n",
      "pprofile             2.1.0\r\n",
      "privy                6.0.0\r\n",
      "prometheus-client    0.14.1\r\n",
      "prompt-toolkit       3.0.31\r\n",
      "psutil               5.9.2\r\n",
      "ptyprocess           0.7.0\r\n",
      "pure-eval            0.2.2\r\n",
      "py-heat              0.0.6\r\n",
      "py-heat-magic        0.0.2\r\n",
      "pyaml                21.10.1\r\n",
      "pycparser            2.21\r\n",
      "Pygments             2.13.0\r\n",
      "pyparsing            3.0.9\r\n",
      "pyrsistent           0.18.1\r\n",
      "python-dateutil      2.8.2\r\n",
      "pytz                 2022.6\r\n",
      "pywin32              304\r\n",
      "pywinpty             2.0.8\r\n",
      "PyYAML               6.0\r\n",
      "pyzmq                24.0.1\r\n",
      "qtconsole            5.3.2\r\n",
      "QtPy                 2.2.0\r\n",
      "scipy                1.9.3\r\n",
      "Send2Trash           1.8.0\r\n",
      "setuptools           60.2.0\r\n",
      "six                  1.16.0\r\n",
      "snakeviz             2.1.1\r\n",
      "soupsieve            2.3.2.post1\r\n",
      "stack-data           0.5.1\r\n",
      "sympy                1.11.1\r\n",
      "terminado            0.15.0\r\n",
      "tinycss2             1.1.1\r\n",
      "tornado              6.2\r\n",
      "traitlets            5.4.0\r\n",
      "wcwidth              0.2.5\r\n",
      "webencodings         0.5.1\r\n",
      "wheel                0.37.1\r\n",
      "widgetsnbextension   4.0.3\r\n"
     ]
    }
   ],
   "source": [
    "%%sh\n",
    "pip list"
   ],
   "metadata": {
    "collapsed": false
   }
  },
  {
   "cell_type": "code",
   "execution_count": 3,
   "outputs": [
    {
     "name": "stdout",
     "output_type": "stream",
     "text": [
      "Requirement already satisfied: privy in c:\\users\\maxse\\pycharmprojects\\itap_labs\\venv\\lib\\site-packages (6.0.0)\r\n",
      "Requirement already satisfied: cryptography in c:\\users\\maxse\\pycharmprojects\\itap_labs\\venv\\lib\\site-packages (from privy) (38.0.1)\r\n",
      "Requirement already satisfied: argon2-cffi in c:\\users\\maxse\\pycharmprojects\\itap_labs\\venv\\lib\\site-packages (from privy) (21.3.0)\r\n",
      "Requirement already satisfied: argon2-cffi-bindings in c:\\users\\maxse\\pycharmprojects\\itap_labs\\venv\\lib\\site-packages (from argon2-cffi->privy) (21.2.0)\r\n",
      "Requirement already satisfied: cffi>=1.12 in c:\\users\\maxse\\pycharmprojects\\itap_labs\\venv\\lib\\site-packages (from cryptography->privy) (1.15.1)\r\n",
      "Requirement already satisfied: pycparser in c:\\users\\maxse\\pycharmprojects\\itap_labs\\venv\\lib\\site-packages (from cffi>=1.12->cryptography->privy) (2.21)\r\n"
     ]
    }
   ],
   "source": [
    "%%sh\n",
    "pip install privy\n",
    "pip freeze > requirements.txt"
   ],
   "metadata": {
    "collapsed": false
   }
  },
  {
   "cell_type": "code",
   "execution_count": 4,
   "outputs": [
    {
     "name": "stdout",
     "output_type": "stream",
     "text": [
      "privy                6.0.0\n"
     ]
    }
   ],
   "source": [
    "%%sh\n",
    "pip list | grep privy"
   ],
   "metadata": {
    "collapsed": false
   }
  },
  {
   "cell_type": "code",
   "execution_count": 5,
   "outputs": [],
   "source": [
    "import privy"
   ],
   "metadata": {
    "collapsed": false
   }
  },
  {
   "cell_type": "code",
   "execution_count": 6,
   "outputs": [
    {
     "data": {
      "text/plain": "'1$2$h9USfTNRMRMgds0r1owLKPa6zgOwaFl2bLm0w_z03A4=$Z0FBQUFBQmpkNlJ1aVpMTnFwaGlzMmI3Y3lpVnlGN2wwbjhkZXh1UWVjY1p0LTRxUFMyY25lb1U0MDVGTTJEMHlRQXJBYWVWTW9fU3JQQXdHQzhFMTNjZ3ZscTFBTjlVT1E9PQ=='"
     },
     "execution_count": 6,
     "metadata": {},
     "output_type": "execute_result"
    }
   ],
   "source": [
    "privy.hide(b'my_password', b'decrypt')"
   ],
   "metadata": {
    "collapsed": false
   }
  },
  {
   "cell_type": "code",
   "execution_count": 7,
   "outputs": [
    {
     "data": {
      "text/plain": "b'my_password'"
     },
     "execution_count": 7,
     "metadata": {},
     "output_type": "execute_result"
    }
   ],
   "source": [
    "privy.peek(_, b'decrypt')"
   ],
   "metadata": {
    "collapsed": false
   }
  },
  {
   "cell_type": "code",
   "execution_count": 8,
   "outputs": [
    {
     "data": {
      "text/plain": "'my_password'"
     },
     "execution_count": 8,
     "metadata": {},
     "output_type": "execute_result"
    }
   ],
   "source": [
    "_.decode('utf-8')"
   ],
   "metadata": {
    "collapsed": false
   }
  }
 ],
 "metadata": {
  "kernelspec": {
   "display_name": "Python 3",
   "language": "python",
   "name": "python3"
  },
  "language_info": {
   "codemirror_mode": {
    "name": "ipython",
    "version": 2
   },
   "file_extension": ".py",
   "mimetype": "text/x-python",
   "name": "python",
   "nbconvert_exporter": "python",
   "pygments_lexer": "ipython2",
   "version": "2.7.6"
  }
 },
 "nbformat": 4,
 "nbformat_minor": 0
}
