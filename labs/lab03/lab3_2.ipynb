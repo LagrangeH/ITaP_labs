{
 "cells": [
  {
   "cell_type": "code",
   "execution_count": 1,
   "metadata": {
    "collapsed": true
   },
   "outputs": [],
   "source": [
    "from random import randint"
   ]
  },
  {
   "cell_type": "code",
   "execution_count": 3,
   "metadata": {
    "collapsed": false
   },
   "outputs": [
    {
     "name": "stdout",
     "output_type": "stream",
     "text": [
      "vlan_mos = [7, 6, 4, 1, 9, 2, 8, 1]\n",
      "vlan_kursk = [7, 14, 11, 14, 6, 13, 11, 3, 2, 7]\n",
      "vlan_novosib = [1, 9, 19, 10, 1, 18, 19, 17, 11, 4, 6, 15, 11, 16, 14]\n"
     ]
    }
   ],
   "source": [
    "vlan_mos = [randint(1, 10) for i in range(8)]\n",
    "vlan_kursk = [randint(1, 15) for i in range(10)]\n",
    "vlan_novosib = [randint(1, 20) for i in range(15)]\n",
    "print(f\"{vlan_mos = }\")\n",
    "print(f\"{vlan_kursk = }\")\n",
    "print(f\"{vlan_novosib = }\")"
   ]
  },
  {
   "cell_type": "code",
   "execution_count": 4,
   "metadata": {
    "collapsed": false
   },
   "outputs": [
    {
     "name": "stdout",
     "output_type": "stream",
     "text": [
      "There are 7 unique vlans in Moscow\n"
     ]
    }
   ],
   "source": [
    "# If we keep in mind that vlans are unique in Moscow itself,\n",
    "# and not among the three cities.\n",
    "print(f\"There are {len(set(vlan_mos))} unique vlans in Moscow\")"
   ]
  },
  {
   "cell_type": "code",
   "execution_count": 5,
   "metadata": {
    "collapsed": false
   },
   "outputs": [
    {
     "name": "stdout",
     "output_type": "stream",
     "text": [
      "vlan_mos = {1, 2, 4, 6, 7, 8, 9}\n",
      "vlan_kursk = {2, 3, 6, 7, 11, 13, 14}\n",
      "vlan_novosib = {1, 4, 6, 9, 10, 11, 14, 15, 16, 17, 18, 19}\n"
     ]
    }
   ],
   "source": [
    "vlan_mos = set(vlan_mos)\n",
    "vlan_kursk = set(vlan_kursk)\n",
    "vlan_novosib = set(vlan_novosib)\n",
    "print(f\"{vlan_mos = }\")\n",
    "print(f\"{vlan_kursk = }\")\n",
    "print(f\"{vlan_novosib = }\")"
   ]
  },
  {
   "cell_type": "code",
   "execution_count": 6,
   "metadata": {
    "collapsed": false
   },
   "outputs": [
    {
     "name": "stdout",
     "output_type": "stream",
     "text": [
      "Vlans that are the same in Moscow and Kursk:  {2, 6, 7}\n"
     ]
    }
   ],
   "source": [
    "print(\"Vlans that are the same in Moscow and Kursk: \", vlan_mos & vlan_kursk)"
   ]
  },
  {
   "cell_type": "code",
   "execution_count": 7,
   "metadata": {
    "collapsed": false
   },
   "outputs": [
    {
     "name": "stdout",
     "output_type": "stream",
     "text": [
      "Vlans that are the same in Moscow, Kursk and Novosibirsk:  {6}\n"
     ]
    }
   ],
   "source": [
    "print(\"Vlans that are the same in Moscow, Kursk and Novosibirsk: \", vlan_mos & vlan_kursk & vlan_novosib)"
   ]
  },
  {
   "cell_type": "code",
   "execution_count": 9,
   "metadata": {
    "collapsed": false
   },
   "outputs": [
    {
     "name": "stdout",
     "output_type": "stream",
     "text": [
      "Vlans that are unique in Novosibirsk:  {10, 15, 16, 17, 18, 19}\n"
     ]
    }
   ],
   "source": [
    "# If we keep in mind those vlans\n",
    "# that are unique in Novosibirsk relative to other cities.\n",
    "print(\"Vlans that are unique in Novosibirsk: \", vlan_novosib - (vlan_mos | vlan_kursk))"
   ]
  }
 ],
 "metadata": {
  "kernelspec": {
   "display_name": "Python 3",
   "language": "python",
   "name": "python3"
  },
  "language_info": {
   "codemirror_mode": {
    "name": "ipython",
    "version": 2
   },
   "file_extension": ".py",
   "mimetype": "text/x-python",
   "name": "python",
   "nbconvert_exporter": "python",
   "pygments_lexer": "ipython2",
   "version": "2.7.6"
  }
 },
 "nbformat": 4,
 "nbformat_minor": 0
}
