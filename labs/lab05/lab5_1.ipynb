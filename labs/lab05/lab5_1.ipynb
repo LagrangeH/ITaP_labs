{
 "cells": [
  {
   "cell_type": "code",
   "execution_count": 1,
   "metadata": {
    "collapsed": true
   },
   "outputs": [
    {
     "name": "stdout",
     "output_type": "stream",
     "text": [
      "show_version = ' *0 CISCO881-SEC-K9 FTX0000038X    '\n"
     ]
    }
   ],
   "source": [
    "show_version = \" *0 CISCO881-SEC-K9 FTX0000038X    \"\n",
    "print(f\"{show_version = }\")"
   ]
  },
  {
   "cell_type": "code",
   "execution_count": 2,
   "outputs": [
    {
     "name": "stdout",
     "output_type": "stream",
     "text": [
      "show_version = '*0 CISCO881-SEC-K9 FTX0000038X'\n"
     ]
    }
   ],
   "source": [
    "show_version = show_version.strip()\n",
    "print(f\"{show_version = }\")"
   ],
   "metadata": {
    "collapsed": false
   }
  },
  {
   "cell_type": "code",
   "execution_count": 3,
   "outputs": [],
   "source": [
    "show_version_splited = show_version.split()"
   ],
   "metadata": {
    "collapsed": false
   }
  },
  {
   "cell_type": "code",
   "execution_count": 4,
   "outputs": [
    {
     "name": "stdout",
     "output_type": "stream",
     "text": [
      "The word Cisco is contained in the string\n"
     ]
    }
   ],
   "source": [
    "if 'cisco' in show_version.lower():\n",
    "    print(\"The word Cisco is contained in the string\")\n",
    "else:\n",
    "    print(\"The word Cisco is not in the string\")"
   ],
   "metadata": {
    "collapsed": false
   }
  },
  {
   "cell_type": "code",
   "execution_count": 5,
   "outputs": [
    {
     "name": "stdout",
     "output_type": "stream",
     "text": [
      "\"881\" is contained in the model number\n"
     ]
    }
   ],
   "source": [
    "if '881' in show_version_splited[1]:\n",
    "    print(\"\\\"881\\\" is contained in the model number\")\n",
    "else:\n",
    "    print(\"\\\"881\\\" is not included in the model number\")"
   ],
   "metadata": {
    "collapsed": false
   }
  },
  {
   "cell_type": "code",
   "execution_count": 6,
   "outputs": [
    {
     "name": "stdout",
     "output_type": "stream",
     "text": [
      "Model number: CISCO881-SEC-K9, serial number: FTX0000038X\n"
     ]
    }
   ],
   "source": [
    "print(\"Model number: {}, serial number: {}\".format(*show_version_splited[1:]))"
   ],
   "metadata": {
    "collapsed": false
   }
  }
 ],
 "metadata": {
  "kernelspec": {
   "display_name": "Python 3",
   "language": "python",
   "name": "python3"
  },
  "language_info": {
   "codemirror_mode": {
    "name": "ipython",
    "version": 2
   },
   "file_extension": ".py",
   "mimetype": "text/x-python",
   "name": "python",
   "nbconvert_exporter": "python",
   "pygments_lexer": "ipython2",
   "version": "2.7.6"
  }
 },
 "nbformat": 4,
 "nbformat_minor": 0
}
