{
 "cells": [
  {
   "cell_type": "code",
   "execution_count": 1,
   "metadata": {
    "collapsed": true
   },
   "outputs": [],
   "source": [
    "import os"
   ]
  },
  {
   "cell_type": "code",
   "execution_count": 2,
   "outputs": [
    {
     "ename": "FileNotFoundError",
     "evalue": "[WinError 3] The system cannot find the path specified: '/tree/switches/other/cisco'",
     "output_type": "error",
     "traceback": [
      "\u001B[1;31m---------------------------------------------------------------------------\u001B[0m",
      "\u001B[1;31mFileNotFoundError\u001B[0m                         Traceback (most recent call last)",
      "Cell \u001B[1;32mIn [2], line 15\u001B[0m\n\u001B[0;32m      5\u001B[0m other \u001B[38;5;241m=\u001B[39m \u001B[38;5;124m'\u001B[39m\u001B[38;5;124m/other\u001B[39m\u001B[38;5;124m'\u001B[39m\n\u001B[0;32m      6\u001B[0m \u001B[38;5;28;01mfor\u001B[39;00m path \u001B[38;5;129;01min\u001B[39;00m (\n\u001B[0;32m      7\u001B[0m     \u001B[38;5;124m\"\u001B[39m\u001B[38;5;124m/tree/switches/other/cisco\u001B[39m\u001B[38;5;124m\"\u001B[39m,\n\u001B[0;32m      8\u001B[0m     \u001B[38;5;124m\"\u001B[39m\u001B[38;5;124m/tree/switches/other/huawei\u001B[39m\u001B[38;5;124m\"\u001B[39m,\n\u001B[1;32m   (...)\u001B[0m\n\u001B[0;32m     13\u001B[0m     \u001B[38;5;124m\"\u001B[39m\u001B[38;5;124m/tree/cisco/other/meraki\u001B[39m\u001B[38;5;124m\"\u001B[39m,\n\u001B[0;32m     14\u001B[0m ):\n\u001B[1;32m---> 15\u001B[0m     os\u001B[38;5;241m.\u001B[39mmkdir(path)\n\u001B[0;32m     16\u001B[0m os\u001B[38;5;241m.\u001B[39mrename(\u001B[38;5;124m\"\u001B[39m\u001B[38;5;124m/tree/routers/other/juniper\u001B[39m\u001B[38;5;124m\"\u001B[39m, \u001B[38;5;124m\"\u001B[39m\u001B[38;5;124m/tree/routers/other/nokia\u001B[39m\u001B[38;5;124m\"\u001B[39m)\n\u001B[0;32m     17\u001B[0m \u001B[38;5;28;01mwith\u001B[39;00m \u001B[38;5;28mopen\u001B[39m(\u001B[38;5;124m'\u001B[39m\u001B[38;5;124mtree/cisco/other/readme.txt\u001B[39m\u001B[38;5;124m'\u001B[39m, \u001B[38;5;124m'\u001B[39m\u001B[38;5;124mw\u001B[39m\u001B[38;5;124m'\u001B[39m) \u001B[38;5;28;01mas\u001B[39;00m readme:\n",
      "\u001B[1;31mFileNotFoundError\u001B[0m: [WinError 3] The system cannot find the path specified: '/tree/switches/other/cisco'"
     ]
    }
   ],
   "source": [
    "tree = '/tree'\n",
    "switches = '/switches'\n",
    "routers = '/routers'\n",
    "cisco = '/cisco'\n",
    "other = '/other'\n",
    "for path in (\n",
    "    \"/tree/switches/other/cisco\",\n",
    "    \"/tree/switches/other/huawei\",\n",
    "    \"/tree/routers/other/juniper\",\n",
    "    \"/tree/routers/other/huawei\",\n",
    "    \"/tree/routers/other/huawei\",\n",
    "    \"/tree/cisco/other/cisco\",\n",
    "    \"/tree/cisco/other/meraki\",\n",
    "):\n",
    "    os.mkdir(path)\n",
    "os.rename(\"/tree/routers/other/juniper\", \"/tree/routers/other/nokia\")\n",
    "with open('tree/cisco/other/readme.txt', 'w') as readme:\n",
    "    readme.write(\"Don't forget to save all configurations!\")"
   ],
   "metadata": {
    "collapsed": false
   }
  },
  {
   "cell_type": "code",
   "execution_count": null,
   "outputs": [],
   "source": [],
   "metadata": {
    "collapsed": false
   }
  }
 ],
 "metadata": {
  "kernelspec": {
   "display_name": "Python 3",
   "language": "python",
   "name": "python3"
  },
  "language_info": {
   "codemirror_mode": {
    "name": "ipython",
    "version": 2
   },
   "file_extension": ".py",
   "mimetype": "text/x-python",
   "name": "python",
   "nbconvert_exporter": "python",
   "pygments_lexer": "ipython2",
   "version": "2.7.6"
  }
 },
 "nbformat": 4,
 "nbformat_minor": 0
}
