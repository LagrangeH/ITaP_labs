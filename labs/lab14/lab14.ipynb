{
 "cells": [
  {
   "cell_type": "code",
   "execution_count": 10,
   "outputs": [],
   "source": [
    "import privy"
   ],
   "metadata": {
    "collapsed": false
   }
  },
  {
   "cell_type": "code",
   "execution_count": 5,
   "outputs": [
    {
     "name": "stdout",
     "output_type": "stream",
     "text": [
      "Package              Version\n",
      "-------------------- -----------\n",
      "argon2-cffi          21.3.0\n",
      "argon2-cffi-bindings 21.2.0\n",
      "asttokens            2.0.8\n",
      "attrs                22.1.0\n",
      "backcall             0.2.0\n",
      "beautifulsoup4       4.11.1\n",
      "bleach               5.0.1\n",
      "cffi                 1.15.1\n",
      "cryptography         38.0.1\n",
      "debugpy              1.6.3\n",
      "decorator            5.1.1\n",
      "defusedxml           0.7.1\n",
      "entrypoints          0.4\n",
      "executing            1.1.0\n",
      "fastjsonschema       2.16.2\n",
      "ipykernel            6.16.0\n",
      "ipython              8.5.0\n",
      "ipython-genutils     0.2.0\n",
      "ipywidgets           8.0.2\n",
      "jedi                 0.18.1\n",
      "Jinja2               3.1.2\n",
      "jsonschema           4.16.0\n",
      "jupyter              1.0.0\n",
      "jupyter_client       7.3.5\n",
      "jupyter-console      6.4.4\n",
      "jupyter-core         4.11.1\n",
      "jupyterlab-pygments  0.2.2\n",
      "jupyterlab-widgets   3.0.3\n",
      "lxml                 4.9.1\n",
      "MarkupSafe           2.1.1\n",
      "matplotlib-inline    0.1.6\n",
      "mistune              2.0.4\n",
      "nbclient             0.6.8\n",
      "nbconvert            7.0.0\n",
      "nbformat             5.6.1\n",
      "nest-asyncio         1.5.5\n",
      "notebook             6.4.12\n",
      "packaging            21.3\n",
      "pandocfilters        1.5.0\n",
      "parso                0.8.3\n",
      "pexpect              4.8.0\n",
      "pickleshare          0.7.5\n",
      "pip                  22.2.2\n",
      "prometheus-client    0.14.1\n",
      "prompt-toolkit       3.0.31\n",
      "psutil               5.9.2\n",
      "ptyprocess           0.7.0\n",
      "pure-eval            0.2.2\n",
      "pycparser            2.21\n",
      "Pygments             2.13.0\n",
      "pyparsing            3.0.9\n",
      "pyrsistent           0.18.1\n",
      "python-dateutil      2.8.2\n",
      "pyzmq                24.0.1\n",
      "qtconsole            5.3.2\n",
      "QtPy                 2.2.0\n",
      "Send2Trash           1.8.0\n",
      "setuptools           60.2.0\n",
      "six                  1.16.0\n",
      "snakeviz             2.1.1\n",
      "soupsieve            2.3.2.post1\n",
      "stack-data           0.5.1\n",
      "terminado            0.15.0\n",
      "tinycss2             1.1.1\n",
      "tornado              6.2\n",
      "traitlets            5.4.0\n",
      "wcwidth              0.2.5\n",
      "webencodings         0.5.1\n",
      "wheel                0.37.1\n",
      "widgetsnbextension   4.0.3\n"
     ]
    }
   ],
   "source": [
    "%%sh\n",
    "pip list"
   ],
   "metadata": {
    "collapsed": false
   }
  },
  {
   "cell_type": "code",
   "execution_count": 9,
   "outputs": [
    {
     "name": "stdout",
     "output_type": "stream",
     "text": [
      "Collecting privy\n",
      "  Using cached privy-6.0.0-py2.py3-none-any.whl (14 kB)\n",
      "Requirement already satisfied: argon2-cffi in /home/lagrange/PycharmProjects/ITaP/venv/lib/python3.10/site-packages (from privy) (21.3.0)\n",
      "Requirement already satisfied: cryptography in /home/lagrange/PycharmProjects/ITaP/venv/lib/python3.10/site-packages (from privy) (38.0.1)\n",
      "Requirement already satisfied: argon2-cffi-bindings in /home/lagrange/PycharmProjects/ITaP/venv/lib/python3.10/site-packages (from argon2-cffi->privy) (21.2.0)\n",
      "Requirement already satisfied: cffi>=1.12 in /home/lagrange/PycharmProjects/ITaP/venv/lib/python3.10/site-packages (from cryptography->privy) (1.15.1)\n",
      "Requirement already satisfied: pycparser in /home/lagrange/PycharmProjects/ITaP/venv/lib/python3.10/site-packages (from cffi>=1.12->cryptography->privy) (2.21)\n",
      "Installing collected packages: privy\n",
      "Successfully installed privy-6.0.0\n"
     ]
    }
   ],
   "source": [
    "%%sh\n",
    "pip install privy\n",
    "pip freeze > requirements.txt"
   ],
   "metadata": {
    "collapsed": false
   }
  },
  {
   "cell_type": "code",
   "execution_count": 11,
   "outputs": [
    {
     "name": "stdout",
     "output_type": "stream",
     "text": [
      "privy                6.0.0\n"
     ]
    }
   ],
   "source": [
    "%%sh\n",
    "pip list | grep privy"
   ],
   "metadata": {
    "collapsed": false
   }
  },
  {
   "cell_type": "code",
   "execution_count": 1,
   "outputs": [],
   "source": [
    "import privy"
   ],
   "metadata": {
    "collapsed": false
   }
  },
  {
   "cell_type": "code",
   "execution_count": 3,
   "outputs": [
    {
     "data": {
      "text/plain": "'1$2$FshzaoWg3lZABXaKOpqS2mCjKSE3ASpIKFkqt4c0Xm8=$Z0FBQUFBQmpOWGtwVDZTTC1xUzVyUURPTlV3c01YRHF2Mm1mSi1wUHFRU0VyaEc5M0pnemR6aHhvRGo4bi0xYTA5TzdjMVZ6WktXX2dkeHdYSnB6U3FDeGZZTHpDY0JTSXc9PQ=='"
     },
     "execution_count": 3,
     "metadata": {},
     "output_type": "execute_result"
    }
   ],
   "source": [
    "privy.hide(b'my_password', b'decrypt')"
   ],
   "metadata": {
    "collapsed": false
   }
  },
  {
   "cell_type": "code",
   "execution_count": 4,
   "outputs": [
    {
     "data": {
      "text/plain": "b'my_password'"
     },
     "execution_count": 4,
     "metadata": {},
     "output_type": "execute_result"
    }
   ],
   "source": [
    "privy.peek(_, b'decrypt')"
   ],
   "metadata": {
    "collapsed": false
   }
  },
  {
   "cell_type": "code",
   "execution_count": 5,
   "outputs": [
    {
     "data": {
      "text/plain": "'my_password'"
     },
     "execution_count": 5,
     "metadata": {},
     "output_type": "execute_result"
    }
   ],
   "source": [
    "_.decode('utf-8')"
   ],
   "metadata": {
    "collapsed": false
   }
  }
 ],
 "metadata": {
  "kernelspec": {
   "display_name": "Python 3",
   "language": "python",
   "name": "python3"
  },
  "language_info": {
   "codemirror_mode": {
    "name": "ipython",
    "version": 2
   },
   "file_extension": ".py",
   "mimetype": "text/x-python",
   "name": "python",
   "nbconvert_exporter": "python",
   "pygments_lexer": "ipython2",
   "version": "2.7.6"
  }
 },
 "nbformat": 4,
 "nbformat_minor": 0
}
