{
 "cells": [
  {
   "cell_type": "markdown",
   "source": [
    "Введем значение маски `252.0.0.0`"
   ],
   "metadata": {
    "collapsed": false
   }
  },
  {
   "cell_type": "code",
   "execution_count": 1,
   "metadata": {
    "collapsed": true
   },
   "outputs": [],
   "source": [
    "mask = input(\"Enter mask: \").split('.')[0]"
   ]
  },
  {
   "cell_type": "code",
   "execution_count": 2,
   "outputs": [
    {
     "name": "stdout",
     "output_type": "stream",
     "text": [
      "/7\n"
     ]
    }
   ],
   "source": [
    "if mask == '0':\n",
    "    print(\"/1\")\n",
    "elif mask == '128':\n",
    "    print(\"/2\")\n",
    "elif mask == '192':\n",
    "    print(\"/3\")\n",
    "elif mask == '224':\n",
    "    print(\"/4\")\n",
    "elif mask == '240':\n",
    "    print(\"/5\")\n",
    "elif mask == '248':\n",
    "    print(\"/6\")\n",
    "elif mask == '252':\n",
    "    print(\"/7\")\n",
    "elif mask == '254':\n",
    "    print(\"/8\")\n",
    "else:\n",
    "    print(\"Invalid mask\")"
   ],
   "metadata": {
    "collapsed": false
   }
  }
 ],
 "metadata": {
  "kernelspec": {
   "display_name": "Python 3",
   "language": "python",
   "name": "python3"
  },
  "language_info": {
   "codemirror_mode": {
    "name": "ipython",
    "version": 2
   },
   "file_extension": ".py",
   "mimetype": "text/x-python",
   "name": "python",
   "nbconvert_exporter": "python",
   "pygments_lexer": "ipython2",
   "version": "2.7.6"
  }
 },
 "nbformat": 4,
 "nbformat_minor": 0
}
