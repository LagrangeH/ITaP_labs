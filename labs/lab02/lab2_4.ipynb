{
 "cells": [
  {
   "cell_type": "code",
   "execution_count": 1,
   "metadata": {
    "collapsed": true
   },
   "outputs": [],
   "source": [
    "user_input = input(\"Enter data for processing: \")"
   ]
  },
  {
   "cell_type": "code",
   "execution_count": 2,
   "outputs": [
    {
     "name": "stdout",
     "output_type": "stream",
     "text": [
      "list3 = ['л', '2', 'о', '3', '4', 'р', '2', 'л', '3', '4', '1', '2', '3']\n"
     ]
    }
   ],
   "source": [
    "list3 = list(user_input)\n",
    "print(f\"{list3 = }\")"
   ],
   "metadata": {
    "collapsed": false
   }
  },
  {
   "cell_type": "code",
   "execution_count": 3,
   "outputs": [
    {
     "name": "stdout",
     "output_type": "stream",
     "text": [
      "len_list3 = 13\n"
     ]
    }
   ],
   "source": [
    "len_list3 = len(list3)\n",
    "print(f\"{len_list3 = }\")"
   ],
   "metadata": {
    "collapsed": false
   }
  },
  {
   "cell_type": "code",
   "execution_count": 4,
   "outputs": [
    {
     "name": "stdout",
     "output_type": "stream",
     "text": [
      "2 and 3 contains in list3 6 times\n"
     ]
    }
   ],
   "source": [
    "count_x = sum(list3.count(string) for string in ('2', '3'))\n",
    "print(f\"2 and 3 contains in list3 {count_x} times\")"
   ],
   "metadata": {
    "collapsed": false
   }
  }
 ],
 "metadata": {
  "kernelspec": {
   "display_name": "Python 3",
   "language": "python",
   "name": "python3"
  },
  "language_info": {
   "codemirror_mode": {
    "name": "ipython",
    "version": 2
   },
   "file_extension": ".py",
   "mimetype": "text/x-python",
   "name": "python",
   "nbconvert_exporter": "python",
   "pygments_lexer": "ipython2",
   "version": "2.7.6"
  }
 },
 "nbformat": 4,
 "nbformat_minor": 0
}
