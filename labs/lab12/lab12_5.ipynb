{
 "cells": [
  {
   "cell_type": "markdown",
   "source": [
    "Pass in order of value `1`, `q`, `1q`, `asd3as`, `abcd`, `DDD`, `A B C`, `end`"
   ],
   "metadata": {
    "collapsed": false
   }
  },
  {
   "cell_type": "code",
   "execution_count": 1,
   "metadata": {
    "collapsed": true
   },
   "outputs": [],
   "source": [
    "def main():\n",
    "    while (d := input(\"Enter data: \")) != 'end':\n",
    "        if d.isalpha():\n",
    "            yield d"
   ]
  },
  {
   "cell_type": "markdown",
   "source": [
    "Let's get values that contain only letters. (Numbers and spaces are not letters)"
   ],
   "metadata": {
    "collapsed": false
   }
  },
  {
   "cell_type": "code",
   "execution_count": 2,
   "outputs": [
    {
     "name": "stdout",
     "output_type": "stream",
     "text": [
      "['q', 'abcd', 'DDD']\n"
     ]
    }
   ],
   "source": [
    "print(list(main()))"
   ],
   "metadata": {
    "collapsed": false
   }
  }
 ],
 "metadata": {
  "kernelspec": {
   "display_name": "Python 3",
   "language": "python",
   "name": "python3"
  },
  "language_info": {
   "codemirror_mode": {
    "name": "ipython",
    "version": 2
   },
   "file_extension": ".py",
   "mimetype": "text/x-python",
   "name": "python",
   "nbconvert_exporter": "python",
   "pygments_lexer": "ipython2",
   "version": "2.7.6"
  }
 },
 "nbformat": 4,
 "nbformat_minor": 0
}
