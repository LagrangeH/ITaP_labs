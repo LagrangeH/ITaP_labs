{
 "cells": [
  {
   "cell_type": "code",
   "execution_count": 1,
   "metadata": {
    "collapsed": true
   },
   "outputs": [],
   "source": [
    "def print_ip_list(text: str, lst: list) -> None:\n",
    "    \"\"\"For more readable printing `ip_list`\"\"\"\n",
    "    print(text, *lst, sep='\\n\\t', end=f\"\\n{16 * '-'}\\n\")"
   ]
  },
  {
   "cell_type": "code",
   "execution_count": 4,
   "outputs": [],
   "source": [
    "ip_list = ['10.1.1.1', '10.1.1.2', '10.1.1.3', '10.1.1.4', '10.1.1.5', '10.1.1.6']"
   ],
   "metadata": {
    "collapsed": false
   }
  },
  {
   "cell_type": "code",
   "execution_count": 5,
   "outputs": [
    {
     "name": "stdout",
     "output_type": "stream",
     "text": [
      "First IP: 10.1.1.1\n",
      "Last IP: 10.1.1.5\n"
     ]
    }
   ],
   "source": [
    "print(f\"First IP: {ip_list[0]}\")\n",
    "print(f\"Last IP: {ip_list[-1]}\")"
   ],
   "metadata": {
    "collapsed": false
   }
  },
  {
   "cell_type": "code",
   "execution_count": 6,
   "outputs": [
    {
     "name": "stdout",
     "output_type": "stream",
     "text": [
      "New IP list:\n",
      "\t10.1.1.1\n",
      "\t10.1.1.2\n",
      "\t10.1.1.3\n",
      "\t10.1.1.4\n",
      "\t10.1.1.5\n",
      "\t10.1.1.7\n",
      "\t10.1.1.8\n",
      "\t10.1.1.9\n",
      "\t10.1.1.10\n",
      "----------------\n",
      "Second IP: 10.1.1.2\n",
      "Penultimate IP: 10.1.1.9\n",
      "New first IP: 2.2.2.2\n",
      "Result IP list:\n",
      "\t2.2.2.2\n",
      "\t10.1.1.3\n",
      "\t10.1.1.4\n",
      "\t10.1.1.5\n",
      "\t10.1.1.7\n",
      "\t10.1.1.8\n",
      "\t10.1.1.9\n",
      "----------------\n"
     ]
    }
   ],
   "source": [
    "ip_list.extend(['10.1.1.7', '10.1.1.8'])\n",
    "ip_list += ['10.1.1.9', '10.1.1.10']\n",
    "\n",
    "print_ip_list(\"New IP list:\", ip_list)\n",
    "print(f\"Second IP: {ip_list[1]}\")\n",
    "print(f\"Penultimate IP: {ip_list[-2]}\")\n",
    "\n",
    "ip_list.pop(0)\n",
    "ip_list.pop()\n",
    "\n",
    "ip_list[0] = '2.2.2.2'\n",
    "print(f\"New first IP: {ip_list[0]}\")\n",
    "\n",
    "print_ip_list(\"Result IP list:\", ip_list)"
   ],
   "metadata": {
    "collapsed": false
   }
  }
 ],
 "metadata": {
  "kernelspec": {
   "display_name": "Python 3",
   "language": "python",
   "name": "python3"
  },
  "language_info": {
   "codemirror_mode": {
    "name": "ipython",
    "version": 2
   },
   "file_extension": ".py",
   "mimetype": "text/x-python",
   "name": "python",
   "nbconvert_exporter": "python",
   "pygments_lexer": "ipython2",
   "version": "2.7.6"
  }
 },
 "nbformat": 4,
 "nbformat_minor": 0
}
