{
 "cells": [
  {
   "cell_type": "code",
   "execution_count": 2,
   "metadata": {
    "collapsed": true
   },
   "outputs": [],
   "source": [
    "with open('show_arp.txt') as file:\n",
    "    sh_vlan = file.readlines()[1:]"
   ]
  },
  {
   "cell_type": "code",
   "execution_count": 6,
   "outputs": [
    {
     "name": "stdout",
     "output_type": "stream",
     "text": [
      "Default gateway IP/Mac is: 10.220.88.1/0062.ec29.70fe\n",
      "Arista3 IP/Mac is: 10.220.88.30/5254.ab71.e119\n"
     ]
    }
   ],
   "source": [
    "done = 0\n",
    "for s in sh_vlan:\n",
    "    s = s.split()\n",
    "    ip_addr, mac_addr = s[1], s[3]\n",
    "    if ip_addr == '10.220.88.1':\n",
    "        print(f\"Default gateway IP/Mac is: {ip_addr}/{mac_addr}\")\n",
    "        done += 1\n",
    "    elif ip_addr == '10.220.88.30':\n",
    "        print(f\"Arista3 IP/Mac is: {ip_addr}/{mac_addr}\")\n",
    "        done += 1\n",
    "    if done == 2:\n",
    "        break"
   ],
   "metadata": {
    "collapsed": false
   }
  }
 ],
 "metadata": {
  "kernelspec": {
   "display_name": "Python 3",
   "language": "python",
   "name": "python3"
  },
  "language_info": {
   "codemirror_mode": {
    "name": "ipython",
    "version": 2
   },
   "file_extension": ".py",
   "mimetype": "text/x-python",
   "name": "python",
   "nbconvert_exporter": "python",
   "pygments_lexer": "ipython2",
   "version": "2.7.6"
  }
 },
 "nbformat": 4,
 "nbformat_minor": 0
}
