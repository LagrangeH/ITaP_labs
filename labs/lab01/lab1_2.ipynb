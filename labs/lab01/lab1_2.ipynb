{
 "cells": [
  {
   "cell_type": "code",
   "execution_count": 1,
   "metadata": {
    "collapsed": true
   },
   "outputs": [
    {
     "name": "stdout",
     "output_type": "stream",
     "text": [
      "Python 3.10.8\n"
     ]
    }
   ],
   "source": [
    "!python -V"
   ]
  },
  {
   "cell_type": "markdown",
   "source": [
    "```shell\n",
    "(venv) C:\\Users\\maxse\\PycharmProjects\\ITaP_labs>python\n",
    "Python 3.10.8 (tags/v3.10.8:aaaf517, Oct 11 2022, 16:50:30) [MSC v.1933 64 bit (AMD64)] on win32\n",
    "Type \"help\", \"copyright\", \"credits\" or \"license\" for more information.\n",
    ">>> 100 + 203\n",
    "303\n",
    ">>> print('Hello')\n",
    "Hello\n",
    ">>> 'hello'\n",
    "'hello'\n",
    ">>> exit()\n",
    "```"
   ],
   "metadata": {
    "collapsed": false
   }
  },
  {
   "cell_type": "code",
   "execution_count": 2,
   "outputs": [
    {
     "name": "stdout",
     "output_type": "stream",
     "text": [
      "Requirement already satisfied: ipython in c:\\users\\maxse\\pycharmprojects\\itap_labs\\venv\\lib\\site-packages (8.5.0)\n",
      "Requirement already satisfied: prompt-toolkit<3.1.0,>3.0.1 in c:\\users\\maxse\\pycharmprojects\\itap_labs\\venv\\lib\\site-packages (from ipython) (3.0.31)\n",
      "Requirement already satisfied: decorator in c:\\users\\maxse\\pycharmprojects\\itap_labs\\venv\\lib\\site-packages (from ipython) (5.1.1)\n",
      "Requirement already satisfied: traitlets>=5 in c:\\users\\maxse\\pycharmprojects\\itap_labs\\venv\\lib\\site-packages (from ipython) (5.4.0)\n",
      "Requirement already satisfied: stack-data in c:\\users\\maxse\\pycharmprojects\\itap_labs\\venv\\lib\\site-packages (from ipython) (0.5.1)\n",
      "Requirement already satisfied: pickleshare in c:\\users\\maxse\\pycharmprojects\\itap_labs\\venv\\lib\\site-packages (from ipython) (0.7.5)\n",
      "Requirement already satisfied: backcall in c:\\users\\maxse\\pycharmprojects\\itap_labs\\venv\\lib\\site-packages (from ipython) (0.2.0)\n",
      "Requirement already satisfied: pygments>=2.4.0 in c:\\users\\maxse\\pycharmprojects\\itap_labs\\venv\\lib\\site-packages (from ipython) (2.13.0)\n",
      "Requirement already satisfied: jedi>=0.16 in c:\\users\\maxse\\pycharmprojects\\itap_labs\\venv\\lib\\site-packages (from ipython) (0.18.1)\n",
      "Requirement already satisfied: matplotlib-inline in c:\\users\\maxse\\pycharmprojects\\itap_labs\\venv\\lib\\site-packages (from ipython) (0.1.6)\n",
      "Requirement already satisfied: colorama in c:\\users\\maxse\\pycharmprojects\\itap_labs\\venv\\lib\\site-packages (from ipython) (0.4.5)\n",
      "Requirement already satisfied: parso<0.9.0,>=0.8.0 in c:\\users\\maxse\\pycharmprojects\\itap_labs\\venv\\lib\\site-packages (from jedi>=0.16->ipython) (0.8.3)\n",
      "Requirement already satisfied: wcwidth in c:\\users\\maxse\\pycharmprojects\\itap_labs\\venv\\lib\\site-packages (from prompt-toolkit<3.1.0,>3.0.1->ipython) (0.2.5)\n",
      "Requirement already satisfied: asttokens in c:\\users\\maxse\\pycharmprojects\\itap_labs\\venv\\lib\\site-packages (from stack-data->ipython) (2.0.8)\n",
      "Requirement already satisfied: executing in c:\\users\\maxse\\pycharmprojects\\itap_labs\\venv\\lib\\site-packages (from stack-data->ipython) (1.1.0)\n",
      "Requirement already satisfied: pure-eval in c:\\users\\maxse\\pycharmprojects\\itap_labs\\venv\\lib\\site-packages (from stack-data->ipython) (0.2.2)\n",
      "Requirement already satisfied: six in c:\\users\\maxse\\pycharmprojects\\itap_labs\\venv\\lib\\site-packages (from asttokens->stack-data->ipython) (1.16.0)\n"
     ]
    }
   ],
   "source": [
    "!pip install ipython && pip freeze > requiriments.txt"
   ],
   "metadata": {
    "collapsed": false
   }
  },
  {
   "cell_type": "markdown",
   "source": [
    "```shell\n",
    "(venv) C:\\Users\\maxse\\PycharmProjects\\ITaP_labs>ipython\n",
    "Python 3.10.8 (tags/v3.10.8:aaaf517, Oct 11 2022, 16:50:30) [MSC v.1933 64 bit (AMD64)]\n",
    "Type 'copyright', 'credits' or 'license' for more information\n",
    "IPython 8.5.0 -- An enhanced Interactive Python. Type '?' for help.\n",
    "\n",
    "In [1]: pprint(\"Hello, world!\")\n",
    "Pretty printing has been turned OFF\n",
    "\n",
    "In [2]: x = 100 + 10\n",
    "\n",
    "In [3]: y = 234 - 34\n",
    "\n",
    "In [4]: z = x - y\n",
    "\n",
    "In [5]: x, y, z\n",
    "Out[5]: (110, 200, -90)\n",
    "\n",
    "In [6]: exit()\n",
    "```"
   ],
   "metadata": {
    "collapsed": false
   }
  }
 ],
 "metadata": {
  "kernelspec": {
   "display_name": "Python 3",
   "language": "python",
   "name": "python3"
  },
  "language_info": {
   "codemirror_mode": {
    "name": "ipython",
    "version": 2
   },
   "file_extension": ".py",
   "mimetype": "text/x-python",
   "name": "python",
   "nbconvert_exporter": "python",
   "pygments_lexer": "ipython2",
   "version": "2.7.6"
  }
 },
 "nbformat": 4,
 "nbformat_minor": 0
}
