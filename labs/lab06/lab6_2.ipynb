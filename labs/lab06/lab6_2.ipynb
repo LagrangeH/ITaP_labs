{
 "cells": [
  {
   "cell_type": "code",
   "execution_count": 34,
   "metadata": {
    "collapsed": true
   },
   "outputs": [],
   "source": [
    "# ip = tuple(map(int, input(\"Please enter the IP address in 'dotted decimal' format: \").split('.')))\n",
    "ip = tuple(map(int, \"172.16.20.1\".split('.')))\n",
    "if max(ip) > 255:\n",
    "    raise TypeError(\"The entered value does not match the IP address format\")"
   ]
  },
  {
   "cell_type": "markdown",
   "source": [
    "Выполним задание, руководствуясь [PEP 3101](https://peps.python.org/pep-3101/)"
   ],
   "metadata": {
    "collapsed": false
   }
  },
  {
   "cell_type": "code",
   "execution_count": 69,
   "outputs": [
    {
     "name": "stdout",
     "output_type": "stream",
     "text": [
      "       Octet1              Octet2              Octet3              Octet4       \n",
      "--------------------------------------------------------------------------------\n",
      "        172                  16                  20                  1          \n",
      "      10101100             10000               10100                 1          \n",
      "         ac                  ac                  ac                  ac         \n",
      "--------------------------------------------------------------------------------\n"
     ]
    }
   ],
   "source": [
    "print(f\"{'Octet1':^20}{'Octet2':^20}{'Octet3':^20}{'Octet4':^20}\")\n",
    "print('-'*80)\n",
    "print(str(\"{:^20}\"*4).format(*ip))\n",
    "print(str(\"{:^20b}\"*4).format(*ip))\n",
    "print(str(\"{0:^20x}\"*4).format(*ip))\n",
    "print('-'*80)"
   ],
   "metadata": {
    "collapsed": false
   }
  },
  {
   "cell_type": "code",
   "execution_count": null,
   "outputs": [],
   "source": [],
   "metadata": {
    "collapsed": false
   }
  }
 ],
 "metadata": {
  "kernelspec": {
   "display_name": "Python 3",
   "language": "python",
   "name": "python3"
  },
  "language_info": {
   "codemirror_mode": {
    "name": "ipython",
    "version": 2
   },
   "file_extension": ".py",
   "mimetype": "text/x-python",
   "name": "python",
   "nbconvert_exporter": "python",
   "pygments_lexer": "ipython2",
   "version": "2.7.6"
  }
 },
 "nbformat": 4,
 "nbformat_minor": 0
}
