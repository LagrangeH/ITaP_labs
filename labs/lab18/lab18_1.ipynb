{
 "cells": [
  {
   "cell_type": "code",
   "execution_count": 21,
   "metadata": {
    "collapsed": true
   },
   "outputs": [
    {
     "name": "stdout",
     "output_type": "stream",
     "text": [
      "git version 2.38.1.windows.1\n"
     ]
    }
   ],
   "source": [
    "%%sh\n",
    "git --version"
   ]
  },
  {
   "cell_type": "code",
   "execution_count": 2,
   "outputs": [],
   "source": [
    "%%sh\n",
    "git config --global user.name \"LagrangeH\"\n",
    "git config --global user.mail maxsergeev39@gmail.com"
   ],
   "metadata": {
    "collapsed": false
   }
  },
  {
   "cell_type": "code",
   "execution_count": 18,
   "outputs": [],
   "source": [
    "%%sh\n",
    "git config --global core.autocrlf true\n",
    "git config --global core.safecrlf warn"
   ],
   "metadata": {
    "collapsed": false
   }
  },
  {
   "cell_type": "code",
   "execution_count": 4,
   "outputs": [],
   "source": [
    "%%sh\n",
    "git config --global core.quotepath off"
   ],
   "metadata": {
    "collapsed": false
   }
  },
  {
   "cell_type": "code",
   "execution_count": 22,
   "outputs": [],
   "source": [
    "%%sh\n",
    "mkdir ../../../work/hello/ -p\n",
    "cd ../../../work/hello/\n",
    "touch hello.py\n",
    "echo \"print('Hello, world!')\" > hello.py"
   ],
   "metadata": {
    "collapsed": false
   }
  },
  {
   "cell_type": "code",
   "execution_count": 23,
   "outputs": [
    {
     "name": "stdout",
     "output_type": "stream",
     "text": [
      "Initialized empty Git repository in C:/Users/maxse/PycharmProjects/work/hello/.git/\n"
     ]
    }
   ],
   "source": [
    "%%sh\n",
    "cd ../../../work/hello\n",
    "git init"
   ],
   "metadata": {
    "collapsed": false
   }
  },
  {
   "cell_type": "code",
   "execution_count": 24,
   "outputs": [
    {
     "name": "stderr",
     "output_type": "stream",
     "text": [
      "warning: in the working copy of 'hello.py', LF will be replaced by CRLF the next time Git touches it\n"
     ]
    },
    {
     "name": "stdout",
     "output_type": "stream",
     "text": [
      "[master (root-commit) 32dc9d5] First commit\n",
      " 1 file changed, 1 insertion(+)\n",
      " create mode 100644 hello.py\n"
     ]
    }
   ],
   "source": [
    "!cd ../../../work/hello\n",
    "!git --git-dir=../../../work/hello/.git --work-tree=../../../work/hello add hello.py\n",
    "!git --git-dir=../../../work/hello/.git --work-tree=../../../work/hello commit -m \"First commit\""
   ],
   "metadata": {
    "collapsed": false
   }
  },
  {
   "cell_type": "code",
   "execution_count": 26,
   "outputs": [
    {
     "name": "stdout",
     "output_type": "stream",
     "text": [
      "On branch master\n",
      "nothing to commit, working tree clean\n"
     ]
    }
   ],
   "source": [
    "!git --git-dir=../../../work/hello/.git --work-tree=../../../work/hello status"
   ],
   "metadata": {
    "collapsed": false
   }
  },
  {
   "cell_type": "markdown",
   "source": [
    "Добавим в файл `hello.py` строку `Ipaddress1=’10.1.1.1’`. И заново проверим репозиторий"
   ],
   "metadata": {
    "collapsed": false
   }
  },
  {
   "cell_type": "code",
   "execution_count": 27,
   "outputs": [
    {
     "name": "stdout",
     "output_type": "stream",
     "text": [
      "On branch master\n",
      "Changes not staged for commit:\n",
      "  (use \"git add <file>...\" to update what will be committed)\n",
      "  (use \"git restore <file>...\" to discard changes in working directory)\n",
      "\tmodified:   hello.py\n",
      "\n",
      "no changes added to commit (use \"git add\" and/or \"git commit -a\")\n"
     ]
    }
   ],
   "source": [
    "!git --git-dir=../../../work/hello/.git --work-tree=../../../work/hello status"
   ],
   "metadata": {
    "collapsed": false
   }
  },
  {
   "cell_type": "code",
   "execution_count": 29,
   "outputs": [
    {
     "name": "stderr",
     "output_type": "stream",
     "text": [
      "warning: in the working copy of 'hello.py', LF will be replaced by CRLF the next time Git touches it\n"
     ]
    },
    {
     "name": "stdout",
     "output_type": "stream",
     "text": [
      "[master c3879d0] Add Ipaddress\n",
      " 1 file changed, 1 insertion(+)\n"
     ]
    }
   ],
   "source": [
    "!git --git-dir=../../../work/hello/.git --work-tree=../../../work/hello add hello.py\n",
    "!git --git-dir=../../../work/hello/.git --work-tree=../../../work/hello commit -m \"Add Ipaddress\""
   ],
   "metadata": {
    "collapsed": false
   }
  },
  {
   "cell_type": "code",
   "execution_count": null,
   "outputs": [],
   "source": [],
   "metadata": {
    "collapsed": false
   }
  }
 ],
 "metadata": {
  "kernelspec": {
   "display_name": "Python 3",
   "language": "python",
   "name": "python3"
  },
  "language_info": {
   "codemirror_mode": {
    "name": "ipython",
    "version": 2
   },
   "file_extension": ".py",
   "mimetype": "text/x-python",
   "name": "python",
   "nbconvert_exporter": "python",
   "pygments_lexer": "ipython2",
   "version": "2.7.6"
  }
 },
 "nbformat": 4,
 "nbformat_minor": 0
}
