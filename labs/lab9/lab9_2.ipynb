{
 "cells": [
  {
   "cell_type": "code",
   "execution_count": 10,
   "outputs": [],
   "source": [
    "from pprint import pprint"
   ],
   "metadata": {
    "collapsed": false
   }
  },
  {
   "cell_type": "code",
   "execution_count": 11,
   "metadata": {
    "collapsed": true
   },
   "outputs": [],
   "source": [
    "with open('show_vlan.txt') as file:\n",
    "    sh_vlan = file.readlines()"
   ]
  },
  {
   "cell_type": "code",
   "execution_count": 12,
   "outputs": [
    {
     "name": "stdout",
     "output_type": "stream",
     "text": [
      "[('1', 'default'),\n",
      " ('100', 'ap-100'),\n",
      " ('101', 'ac-101'),\n",
      " ('102', 'pc-102'),\n",
      " ('103', 'mgmt-103')]\n"
     ]
    }
   ],
   "source": [
    "vlans = []\n",
    "for vlan in [sh_vlan[2]] + sh_vlan[-4:]:\n",
    "    vlans.append(tuple(vlan.split()[:2]))\n",
    "pprint(vlans)"
   ],
   "metadata": {
    "collapsed": false
   }
  }
 ],
 "metadata": {
  "kernelspec": {
   "display_name": "Python 3",
   "language": "python",
   "name": "python3"
  },
  "language_info": {
   "codemirror_mode": {
    "name": "ipython",
    "version": 2
   },
   "file_extension": ".py",
   "mimetype": "text/x-python",
   "name": "python",
   "nbconvert_exporter": "python",
   "pygments_lexer": "ipython2",
   "version": "2.7.6"
  }
 },
 "nbformat": 4,
 "nbformat_minor": 0
}
