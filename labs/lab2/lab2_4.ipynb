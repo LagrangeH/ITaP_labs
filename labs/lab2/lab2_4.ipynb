{
 "cells": [
  {
   "cell_type": "code",
   "execution_count": 3,
   "metadata": {
    "collapsed": true
   },
   "outputs": [],
   "source": [
    "user_input = input(\"Enter data for processing: \")"
   ]
  },
  {
   "cell_type": "code",
   "execution_count": 4,
   "outputs": [
    {
     "name": "stdout",
     "output_type": "stream",
     "text": [
      "list3 = ['1', ' ', '2', ' ', '1', ' ', '2', ' ', '1', ' ', '3', ' ', '4', ' ', '8', ' ', '3', '1']\n",
      "len_list3 = 18\n",
      "2 and 3 contains in list3 4 times\n"
     ]
    }
   ],
   "source": [
    "list3 = list(user_input)\n",
    "print(f\"{list3 = }\")\n",
    "\n",
    "len_list3 = len(list3)\n",
    "print(f\"{len_list3 = }\")\n",
    "\n",
    "count_x = sum(list3.count(string) for string in ('2', '3'))\n",
    "print(f\"2 and 3 contains in list3 {count_x} times\")"
   ],
   "metadata": {
    "collapsed": false
   }
  },
  {
   "cell_type": "code",
   "execution_count": null,
   "outputs": [],
   "source": [],
   "metadata": {
    "collapsed": false
   }
  }
 ],
 "metadata": {
  "kernelspec": {
   "display_name": "Python 3",
   "language": "python",
   "name": "python3"
  },
  "language_info": {
   "codemirror_mode": {
    "name": "ipython",
    "version": 2
   },
   "file_extension": ".py",
   "mimetype": "text/x-python",
   "name": "python",
   "nbconvert_exporter": "python",
   "pygments_lexer": "ipython2",
   "version": "2.7.6"
  }
 },
 "nbformat": 4,
 "nbformat_minor": 0
}
