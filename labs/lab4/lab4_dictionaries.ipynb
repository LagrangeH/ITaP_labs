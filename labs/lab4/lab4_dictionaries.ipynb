{
 "cells": [
  {
   "cell_type": "code",
   "execution_count": 1,
   "metadata": {
    "collapsed": true
   },
   "outputs": [],
   "source": [
    "device = {\n",
    "        'ip': '10.10.10.12',\n",
    "        'username': 'user',\n",
    "        'password': 'pass',\n",
    "    }"
   ]
  },
  {
   "cell_type": "code",
   "execution_count": 2,
   "outputs": [
    {
     "name": "stdout",
     "output_type": "stream",
     "text": [
      "device['password'] = 'pass'\n"
     ]
    }
   ],
   "source": [
    "print(f\"{device['password'] = }\")"
   ],
   "metadata": {
    "collapsed": false
   }
  },
  {
   "cell_type": "code",
   "execution_count": 3,
   "outputs": [
    {
     "name": "stdout",
     "output_type": "stream",
     "text": [
      "device_key = dict_keys(['ip', 'username', 'password'])\n",
      "device_value = dict_values(['10.10.10.12', 'user', 'pass'])\n"
     ]
    }
   ],
   "source": [
    "device_key, device_value = device.keys(), device.values()\n",
    "print(f\"{device_key = }\\n{device_value = }\")"
   ],
   "metadata": {
    "collapsed": false
   }
  },
  {
   "cell_type": "code",
   "execution_count": 4,
   "outputs": [
    {
     "name": "stdout",
     "output_type": "stream",
     "text": [
      "add_config = {'device_type': 'huawei', 'session_log': 'output.txt'}\n"
     ]
    }
   ],
   "source": [
    "add_config = {\n",
    "    'device_type': 'huawei',\n",
    "    'session_log': 'output.txt',\n",
    "}\n",
    "print(f\"{add_config = }\")"
   ],
   "metadata": {
    "collapsed": false
   }
  },
  {
   "cell_type": "code",
   "execution_count": 5,
   "outputs": [
    {
     "name": "stdout",
     "output_type": "stream",
     "text": [
      "device = {'ip': '10.10.10.12', 'username': 'user', 'password': 'pass', 'device_type': 'huawei', 'session_log': 'output.txt'}\n"
     ]
    }
   ],
   "source": [
    "device.update(add_config)\n",
    "print(f\"{device = }\")"
   ],
   "metadata": {
    "collapsed": false
   }
  }
 ],
 "metadata": {
  "kernelspec": {
   "display_name": "Python 3",
   "language": "python",
   "name": "python3"
  },
  "language_info": {
   "codemirror_mode": {
    "name": "ipython",
    "version": 2
   },
   "file_extension": ".py",
   "mimetype": "text/x-python",
   "name": "python",
   "nbconvert_exporter": "python",
   "pygments_lexer": "ipython2",
   "version": "2.7.6"
  }
 },
 "nbformat": 4,
 "nbformat_minor": 0
}
