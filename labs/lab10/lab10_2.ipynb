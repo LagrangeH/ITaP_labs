{
 "cells": [
  {
   "cell_type": "code",
   "execution_count": 1,
   "metadata": {
    "collapsed": true
   },
   "outputs": [],
   "source": [
    "import json\n",
    "from pprint import pprint"
   ]
  },
  {
   "cell_type": "code",
   "execution_count": 2,
   "outputs": [],
   "source": [
    "with open('interface-config.json') as file:\n",
    "    json_data = json.loads(file.read())"
   ],
   "metadata": {
    "collapsed": false
   }
  },
  {
   "cell_type": "code",
   "execution_count": 3,
   "outputs": [
    {
     "name": "stdout",
     "output_type": "stream",
     "text": [
      "{'description': 'Wide Area Network',\n",
      " 'enabled': True,\n",
      " 'ietf-ip:ipv4': {'address': [{'ip': '172.16.0.2',\n",
      "                               'netmask': '255.255.255.0'}]},\n",
      " 'name': 'GigabitEthernet2'}\n"
     ]
    }
   ],
   "source": [
    "pprint(json_data['ietf-interfaces:interface'])"
   ],
   "metadata": {
    "collapsed": false
   }
  },
  {
   "cell_type": "code",
   "execution_count": 4,
   "outputs": [
    {
     "name": "stdout",
     "output_type": "stream",
     "text": [
      "Interface IP address:\n",
      "'172.16.0.2'\n"
     ]
    }
   ],
   "source": [
    "print(\"Interface IP address:\")\n",
    "pprint(json_data['ietf-interfaces:interface']['ietf-ip:ipv4']['address'][0]['ip'])"
   ],
   "metadata": {
    "collapsed": false
   }
  }
 ],
 "metadata": {
  "kernelspec": {
   "display_name": "Python 3",
   "language": "python",
   "name": "python3"
  },
  "language_info": {
   "codemirror_mode": {
    "name": "ipython",
    "version": 2
   },
   "file_extension": ".py",
   "mimetype": "text/x-python",
   "name": "python",
   "nbconvert_exporter": "python",
   "pygments_lexer": "ipython2",
   "version": "2.7.6"
  }
 },
 "nbformat": 4,
 "nbformat_minor": 0
}
