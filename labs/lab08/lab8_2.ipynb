{
 "cells": [
  {
   "cell_type": "code",
   "execution_count": 3,
   "metadata": {
    "collapsed": true
   },
   "outputs": [],
   "source": [
    "arp_table = [\n",
    "        ('10.220.88.1', '0062.ec29.70fe'),\n",
    "        ('10.220.88.20', 'c89c.1dea.0eb6'),\n",
    "        ('10.220.88.21', '1c6a.7aaf.576c'),\n",
    "        ('10.220.88.28', '5254.aba8.9aea'),\n",
    "        ('10.220.88.29', '5254.аbаt.5b7b'),\n",
    "        ('10.220.88.30', '5254.ab71.e119'),\n",
    "        ('10.220.88.32', '5254.abc7.26aa'),\n",
    "        ('10.220.88.33', '5254.ab3a.8d26'),\n",
    "        ('10.220.88.35', '5254.abfb.af12'),\n",
    "        ('10.220.88.37', '0001.00ff.0001'),\n",
    "        ('10.220.88.38', '0002.00ff.0001'),\n",
    "        ('10.220.88.39', '6464.9be8.08c8'),\n",
    "        ('10.220.88.40', '001c.c4bf.826a'),\n",
    "        ('10.220.88.41', '001b.7873.5634')\n",
    "    ]"
   ]
  },
  {
   "cell_type": "code",
   "execution_count": 4,
   "outputs": [
    {
     "name": "stdout",
     "output_type": "stream",
     "text": [
      "00:62:EC:29:70:FE\n",
      "C8:9C:1D:EA:0E:B6\n",
      "1C:6A:7A:AF:57:6C\n",
      "52:54:AB:A8:9A:EA\n",
      "52:54:АB:АT:5B:7B\n",
      "52:54:AB:71:E1:19\n",
      "52:54:AB:C7:26:AA\n",
      "52:54:AB:3A:8D:26\n",
      "52:54:AB:FB:AF:12\n",
      "00:01:00:FF:00:01\n",
      "00:02:00:FF:00:01\n",
      "64:64:9B:E8:08:C8\n",
      "00:1C:C4:BF:82:6A\n",
      "00:1B:78:73:56:34\n"
     ]
    }
   ],
   "source": [
    "for mac in arp_table:\n",
    "    address = []\n",
    "    for b in mac[1].split('.'):\n",
    "        address.append(b[:2].upper())\n",
    "        address.append(b[2:].upper())\n",
    "    print(':'.join(address))"
   ],
   "metadata": {
    "collapsed": false
   }
  }
 ],
 "metadata": {
  "kernelspec": {
   "display_name": "Python 3",
   "language": "python",
   "name": "python3"
  },
  "language_info": {
   "codemirror_mode": {
    "name": "ipython",
    "version": 2
   },
   "file_extension": ".py",
   "mimetype": "text/x-python",
   "name": "python",
   "nbconvert_exporter": "python",
   "pygments_lexer": "ipython2",
   "version": "2.7.6"
  }
 },
 "nbformat": 4,
 "nbformat_minor": 0
}
