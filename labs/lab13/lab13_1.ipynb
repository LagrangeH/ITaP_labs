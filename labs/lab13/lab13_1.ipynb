{
 "cells": [
  {
   "cell_type": "code",
   "execution_count": 1,
   "outputs": [],
   "source": [
    "config_acl = 'acl 3001 \\nrule 5 permit tcp source 10.1.4.1 0 destination-port eq telnet \\nrule 10 deny tcp'"
   ],
   "metadata": {
    "collapsed": false
   }
  },
  {
   "cell_type": "code",
   "execution_count": 2,
   "metadata": {
    "collapsed": true
   },
   "outputs": [],
   "source": [
    "def main():\n",
    "    try:\n",
    "        file = open('lab13_1.txt')\n",
    "    except FileNotFoundError:\n",
    "        filename = input(\"There is no such file, let's create it. Enter the name of the file you want to create: \")\n",
    "        if filename != 'lab13_1.txt':\n",
    "            print(\"Something went wrong\")\n",
    "            return\n",
    "        file = open(filename, 'wt')\n",
    "        file.write(config_acl)\n",
    "    except Exception:\n",
    "        print(\"Unexpected error\")\n",
    "        return\n",
    "    else:\n",
    "        print(\"File has been found\")\n",
    "    finally:\n",
    "        file.close()\n",
    "    with open('lab13_1.txt', 'rt') as  file:\n",
    "        print(file.read())"
   ]
  },
  {
   "cell_type": "code",
   "execution_count": 3,
   "outputs": [
    {
     "name": "stdout",
     "output_type": "stream",
     "text": [
      "acl 3001 \n",
      "rule 5 permit tcp source 10.1.4.1 0 destination-port eq telnet \n",
      "rule 10 deny tcp\n"
     ]
    }
   ],
   "source": [
    "main()"
   ],
   "metadata": {
    "collapsed": false
   }
  },
  {
   "cell_type": "code",
   "execution_count": 4,
   "outputs": [
    {
     "name": "stdout",
     "output_type": "stream",
     "text": [
      "File has been found\n",
      "acl 3001 \n",
      "rule 5 permit tcp source 10.1.4.1 0 destination-port eq telnet \n",
      "rule 10 deny tcp\n"
     ]
    }
   ],
   "source": [
    "main()"
   ],
   "metadata": {
    "collapsed": false
   }
  }
 ],
 "metadata": {
  "kernelspec": {
   "display_name": "Python 3",
   "language": "python",
   "name": "python3"
  },
  "language_info": {
   "codemirror_mode": {
    "name": "ipython",
    "version": 2
   },
   "file_extension": ".py",
   "mimetype": "text/x-python",
   "name": "python",
   "nbconvert_exporter": "python",
   "pygments_lexer": "ipython2",
   "version": "2.7.6"
  }
 },
 "nbformat": 4,
 "nbformat_minor": 0
}
