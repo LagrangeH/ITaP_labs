{
 "cells": [
  {
   "cell_type": "markdown",
   "source": [
    "Передадим по порядку значения `1`, `q`, `1q`, `asd3as`, `abcd`, `DDD`, `A B C`, `end`"
   ],
   "metadata": {
    "collapsed": false
   }
  },
  {
   "cell_type": "code",
   "execution_count": 5,
   "metadata": {
    "collapsed": true
   },
   "outputs": [],
   "source": [
    "def main():\n",
    "    while (d := input(\"Enter data: \")) != 'end':\n",
    "        if d.isalpha():\n",
    "            yield d"
   ]
  },
  {
   "cell_type": "markdown",
   "source": [
    "Получим значения, которые содержат только буквы. (Цифры и пробелы не являются буквами)"
   ],
   "metadata": {
    "collapsed": false
   }
  },
  {
   "cell_type": "code",
   "execution_count": 6,
   "outputs": [
    {
     "name": "stdout",
     "output_type": "stream",
     "text": [
      "['q', 'abcd', 'DDD']\n"
     ]
    }
   ],
   "source": [
    "print(list(main()))"
   ],
   "metadata": {
    "collapsed": false
   }
  }
 ],
 "metadata": {
  "kernelspec": {
   "display_name": "Python 3",
   "language": "python",
   "name": "python3"
  },
  "language_info": {
   "codemirror_mode": {
    "name": "ipython",
    "version": 2
   },
   "file_extension": ".py",
   "mimetype": "text/x-python",
   "name": "python",
   "nbconvert_exporter": "python",
   "pygments_lexer": "ipython2",
   "version": "2.7.6"
  }
 },
 "nbformat": 4,
 "nbformat_minor": 0
}
