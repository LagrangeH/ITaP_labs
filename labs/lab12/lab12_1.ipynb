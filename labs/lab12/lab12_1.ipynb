{
 "cells": [
  {
   "cell_type": "code",
   "execution_count": 1,
   "metadata": {
    "collapsed": true
   },
   "outputs": [],
   "source": [
    "def ssh_conn(ip_address, username, password):\n",
    "    print(f\"{ip_address = }\\n{username = }\\n{password = }\")"
   ]
  },
  {
   "cell_type": "code",
   "execution_count": 3,
   "outputs": [
    {
     "name": "stdout",
     "output_type": "stream",
     "text": [
      "ip_address = '192.168.0.10'\n",
      "username = 'root'\n",
      "password = 'toor'\n"
     ]
    }
   ],
   "source": [
    "ssh_conn(ip_address='192.168.0.10', username='root', password='toor')"
   ],
   "metadata": {
    "collapsed": false
   }
  },
  {
   "cell_type": "code",
   "execution_count": 4,
   "outputs": [
    {
     "name": "stdout",
     "output_type": "stream",
     "text": [
      "ip_address = '192.168.0.10'\n",
      "username = 'admin'\n",
      "password = 'adminadmin'\n"
     ]
    }
   ],
   "source": [
    "ssh_conn('192.168.0.10', username='admin', password='adminadmin')"
   ],
   "metadata": {
    "collapsed": false
   }
  }
 ],
 "metadata": {
  "kernelspec": {
   "display_name": "Python 3",
   "language": "python",
   "name": "python3"
  },
  "language_info": {
   "codemirror_mode": {
    "name": "ipython",
    "version": 2
   },
   "file_extension": ".py",
   "mimetype": "text/x-python",
   "name": "python",
   "nbconvert_exporter": "python",
   "pygments_lexer": "ipython2",
   "version": "2.7.6"
  }
 },
 "nbformat": 4,
 "nbformat_minor": 0
}
