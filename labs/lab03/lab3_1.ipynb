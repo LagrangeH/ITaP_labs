{
 "cells": [
  {
   "cell_type": "code",
   "execution_count": 1,
   "metadata": {
    "collapsed": true
   },
   "outputs": [],
   "source": [
    "ip_list = [\n",
    "        '10.1.1.1',\n",
    "        '10.1.1.2',\n",
    "        '10.1.1.3',\n",
    "        '10.1.1.2',\n",
    "        '10.1.1.3',\n",
    "        '10.1.1.1',\n",
    "        '10.1.1.1',\n",
    "        '10.1.1.2',\n",
    "    ]"
   ]
  },
  {
   "cell_type": "code",
   "execution_count": 2,
   "outputs": [
    {
     "name": "stdout",
     "output_type": "stream",
     "text": [
      "ip_addr_unique = {'10.1.1.2', '10.1.1.1', '10.1.1.3'}\n"
     ]
    }
   ],
   "source": [
    "ip_addr_unique = set(ip_list)\n",
    "print(f\"{ip_addr_unique = }\")"
   ],
   "metadata": {
    "collapsed": false
   }
  },
  {
   "cell_type": "code",
   "execution_count": 3,
   "outputs": [
    {
     "name": "stdout",
     "output_type": "stream",
     "text": [
      "ip_sorted = ['10.1.1.1', '10.1.1.2', '10.1.1.3']\n"
     ]
    }
   ],
   "source": [
    "ip_sorted = sorted(ip_addr_unique)\n",
    "print(f\"{ip_sorted = }\")"
   ],
   "metadata": {
    "collapsed": false
   }
  },
  {
   "cell_type": "code",
   "execution_count": 4,
   "outputs": [
    {
     "name": "stdout",
     "output_type": "stream",
     "text": [
      "len_iplist = 3\n"
     ]
    }
   ],
   "source": [
    "len_iplist = len(ip_addr_unique)\n",
    "print(f\"{len_iplist = }\")"
   ],
   "metadata": {
    "collapsed": false
   }
  }
 ],
 "metadata": {
  "kernelspec": {
   "display_name": "Python 3",
   "language": "python",
   "name": "python3"
  },
  "language_info": {
   "codemirror_mode": {
    "name": "ipython",
    "version": 2
   },
   "file_extension": ".py",
   "mimetype": "text/x-python",
   "name": "python",
   "nbconvert_exporter": "python",
   "pygments_lexer": "ipython2",
   "version": "2.7.6"
  }
 },
 "nbformat": 4,
 "nbformat_minor": 0
}
