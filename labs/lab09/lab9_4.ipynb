{
 "cells": [
  {
   "cell_type": "code",
   "execution_count": 1,
   "metadata": {
    "collapsed": true
   },
   "outputs": [],
   "source": [
    "with open('show_lldp_neighbors_detail.txt') as file:\n",
    "    data = file.readlines()"
   ]
  },
  {
   "cell_type": "code",
   "execution_count": 10,
   "outputs": [
    {
     "name": "stdout",
     "output_type": "stream",
     "text": [
      "System name: twb-sf-hpsw1\n",
      "Port id: 15\n"
     ]
    }
   ],
   "source": [
    "system_name, port_id = '', ''\n",
    "for s in data:\n",
    "    if \"System Name\" in s:\n",
    "        system_name = s.split()[-1]\n",
    "    elif \"Port id\" in s:\n",
    "        port_id = s.split()[-1]\n",
    "    if system_name and port_id:\n",
    "        print(f\"System name: {system_name}\\nPort id: {port_id}\")\n",
    "        break"
   ],
   "metadata": {
    "collapsed": false
   }
  }
 ],
 "metadata": {
  "kernelspec": {
   "display_name": "Python 3",
   "language": "python",
   "name": "python3"
  },
  "language_info": {
   "codemirror_mode": {
    "name": "ipython",
    "version": 2
   },
   "file_extension": ".py",
   "mimetype": "text/x-python",
   "name": "python",
   "nbconvert_exporter": "python",
   "pygments_lexer": "ipython2",
   "version": "2.7.6"
  }
 },
 "nbformat": 4,
 "nbformat_minor": 0
}
