{
 "cells": [
  {
   "cell_type": "code",
   "execution_count": 1,
   "metadata": {
    "collapsed": true
   },
   "outputs": [],
   "source": [
    "import os"
   ]
  },
  {
   "cell_type": "code",
   "execution_count": 2,
   "outputs": [],
   "source": [
    "root = os.getcwd()\n",
    "paths = (\n",
    "    \"\\\\tree\\\\switches\\\\other\\\\cisco\",\n",
    "    \"\\\\tree\\\\switches\\\\other\\\\huawei\",\n",
    "    \"\\\\tree\\\\routers\\\\other\\\\juniper\",\n",
    "    \"\\\\tree\\\\routers\\\\other\\\\huawei\",\n",
    "    \"\\\\tree\\\\routers\\\\other\\\\huawei\",\n",
    "    \"\\\\tree\\\\cisco\\\\other\\\\cisco\",\n",
    "    \"\\\\tree\\\\cisco\\\\other\\\\meraki\",\n",
    ")"
   ],
   "metadata": {
    "collapsed": false
   }
  },
  {
   "cell_type": "code",
   "execution_count": 3,
   "outputs": [],
   "source": [
    "for path in paths:\n",
    "    os.makedirs(root + path, exist_ok=True)"
   ],
   "metadata": {
    "collapsed": false
   }
  },
  {
   "cell_type": "code",
   "execution_count": 4,
   "outputs": [],
   "source": [
    "try:\n",
    "    os.rename(root + \"\\\\tree\\\\routers\\\\other\\\\juniper\", root + \"\\\\tree\\\\routers\\\\other\\\\nokia\")\n",
    "except FileNotFoundError:\n",
    "    print(\"Already renamed\")"
   ],
   "metadata": {
    "collapsed": false
   }
  },
  {
   "cell_type": "code",
   "execution_count": 5,
   "outputs": [],
   "source": [
    "with open(root + \"\\\\tree\\\\cisco\\\\other\\\\readme.txt\", 'w') as readme:\n",
    "    readme.write(\"Don't forget to save all configurations!\")"
   ],
   "metadata": {
    "collapsed": false
   }
  },
  {
   "cell_type": "code",
   "execution_count": 6,
   "outputs": [],
   "source": [
    "try:\n",
    "    os.replace(root + \"\\\\tree\\\\cisco\\\\other\\\\readme.txt\", root + \"\\\\tree\\\\cisco\\\\other\\\\meraki\\\\readme1.txt\")\n",
    "except FileNotFoundError:\n",
    "    print(\"Already replaced\")"
   ],
   "metadata": {
    "collapsed": false
   }
  },
  {
   "cell_type": "code",
   "execution_count": 7,
   "outputs": [
    {
     "name": "stdout",
     "output_type": "stream",
     "text": [
      "Don't forget to save all configurations!\n"
     ]
    }
   ],
   "source": [
    "with open(root + \"\\\\tree\\\\cisco\\\\other\\\\meraki\\\\readme1.txt\") as file:\n",
    "    print(file.read())"
   ],
   "metadata": {
    "collapsed": false
   }
  },
  {
   "cell_type": "code",
   "execution_count": 8,
   "outputs": [],
   "source": [
    "os.makedirs(root + \"\\\\tree\\\\switches\\\\other\\\\juniper\", exist_ok=True)"
   ],
   "metadata": {
    "collapsed": false
   }
  },
  {
   "cell_type": "code",
   "execution_count": 9,
   "outputs": [
    {
     "name": "stdout",
     "output_type": "stream",
     "text": [
      "Directory: C:\\Users\\maxse\\PycharmProjects\\ITaP_labs\\labs\\lab17\\tree\\cisco\n",
      "Directory: C:\\Users\\maxse\\PycharmProjects\\ITaP_labs\\labs\\lab17\\tree\\routers\n",
      "Directory: C:\\Users\\maxse\\PycharmProjects\\ITaP_labs\\labs\\lab17\\tree\\switches\n",
      "Directory: C:\\Users\\maxse\\PycharmProjects\\ITaP_labs\\labs\\lab17\\tree\\cisco\\other\n",
      "Directory: C:\\Users\\maxse\\PycharmProjects\\ITaP_labs\\labs\\lab17\\tree\\cisco\\other\\cisco\n",
      "Directory: C:\\Users\\maxse\\PycharmProjects\\ITaP_labs\\labs\\lab17\\tree\\cisco\\other\\meraki\n",
      "File:      C:\\Users\\maxse\\PycharmProjects\\ITaP_labs\\labs\\lab17\\tree\\cisco\\other\\meraki\\readme1.txt\n",
      "Directory: C:\\Users\\maxse\\PycharmProjects\\ITaP_labs\\labs\\lab17\\tree\\routers\\other\n",
      "Directory: C:\\Users\\maxse\\PycharmProjects\\ITaP_labs\\labs\\lab17\\tree\\routers\\other\\huawei\n",
      "Directory: C:\\Users\\maxse\\PycharmProjects\\ITaP_labs\\labs\\lab17\\tree\\routers\\other\\nokia\n",
      "Directory: C:\\Users\\maxse\\PycharmProjects\\ITaP_labs\\labs\\lab17\\tree\\switches\\other\n",
      "Directory: C:\\Users\\maxse\\PycharmProjects\\ITaP_labs\\labs\\lab17\\tree\\switches\\other\\cisco\n",
      "Directory: C:\\Users\\maxse\\PycharmProjects\\ITaP_labs\\labs\\lab17\\tree\\switches\\other\\huawei\n",
      "Directory: C:\\Users\\maxse\\PycharmProjects\\ITaP_labs\\labs\\lab17\\tree\\switches\\other\\juniper\n"
     ]
    }
   ],
   "source": [
    "for dir_path, dir_names, filenames in os.walk(root + '\\\\tree'):\n",
    "    for dir_name in dir_names:\n",
    "        print(\"Directory:\", os.path.join(dir_path, dir_name))\n",
    "    for filename in filenames:\n",
    "        print(\"File:     \", os.path.join(dir_path, filename))"
   ],
   "metadata": {
    "collapsed": false
   }
  },
  {
   "cell_type": "code",
   "execution_count": 10,
   "outputs": [],
   "source": [
    "try:\n",
    "    os.rmdir(root + \"\\\\tree\\\\routers\\\\other\\\\nokia\")\n",
    "except FileNotFoundError:\n",
    "    print(\"Already deleted\")"
   ],
   "metadata": {
    "collapsed": false
   }
  }
 ],
 "metadata": {
  "kernelspec": {
   "display_name": "Python 3",
   "language": "python",
   "name": "python3"
  },
  "language_info": {
   "codemirror_mode": {
    "name": "ipython",
    "version": 2
   },
   "file_extension": ".py",
   "mimetype": "text/x-python",
   "name": "python",
   "nbconvert_exporter": "python",
   "pygments_lexer": "ipython2",
   "version": "2.7.6"
  }
 },
 "nbformat": 4,
 "nbformat_minor": 0
}
