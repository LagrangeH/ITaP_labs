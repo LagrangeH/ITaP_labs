{
 "cells": [
  {
   "cell_type": "code",
   "execution_count": 3,
   "metadata": {
    "collapsed": true
   },
   "outputs": [],
   "source": [
    "from random import randint"
   ]
  },
  {
   "cell_type": "code",
   "execution_count": 4,
   "outputs": [
    {
     "name": "stdout",
     "output_type": "stream",
     "text": [
      "Sorted ACL list: [6, 16, 16, 18, 62, 88, 90, 122, 129, 141]\n"
     ]
    }
   ],
   "source": [
    "acl_list = [randint(1, 199) for i in range(10)]\n",
    "acl_list.sort()\n",
    "print(f\"Sorted ACL list: {acl_list}\")"
   ],
   "metadata": {
    "collapsed": false
   }
  },
  {
   "cell_type": "code",
   "execution_count": 5,
   "outputs": [],
   "source": [
    "acl_list.insert(-1, acl_list.pop(0))\n",
    "acl_list.insert(0, acl_list.pop())"
   ],
   "metadata": {
    "collapsed": false
   }
  },
  {
   "cell_type": "code",
   "execution_count": 7,
   "outputs": [
    {
     "name": "stdout",
     "output_type": "stream",
     "text": [
      "Reversed ACL list with method reverse: [6, 129, 122, 90, 88, 62, 18, 16, 16, 141]\n",
      "Reversed ACL list with slices: [6, 129, 122, 90, 88, 62, 18, 16, 16, 141]\n"
     ]
    }
   ],
   "source": [
    "acl_list.reverse()\n",
    "print(f\"Reversed ACL list with method reverse: {acl_list}\")\n",
    "acl_list = acl_list[::-1]\n",
    "print(f\"Reversed ACL list with slices: {acl_list[::-1]}\")"
   ],
   "metadata": {
    "collapsed": false
   }
  },
  {
   "cell_type": "markdown",
   "source": [
    "Если изначально известно, что длина списка равна 10"
   ],
   "metadata": {
    "collapsed": false
   }
  },
  {
   "cell_type": "code",
   "execution_count": 8,
   "outputs": [
    {
     "name": "stdout",
     "output_type": "stream",
     "text": [
      "acl_list1 = [141, 16, 16, 18, 62]\n",
      "acl_list2 = [88, 90, 122, 129, 6]\n"
     ]
    }
   ],
   "source": [
    "acl_list1, acl_list2 = acl_list[:5], acl_list[5:]\n",
    "print(f'{acl_list1 = }\\n{acl_list2 = }')"
   ],
   "metadata": {
    "collapsed": false
   }
  }
 ],
 "metadata": {
  "kernelspec": {
   "display_name": "Python 3",
   "language": "python",
   "name": "python3"
  },
  "language_info": {
   "codemirror_mode": {
    "name": "ipython",
    "version": 2
   },
   "file_extension": ".py",
   "mimetype": "text/x-python",
   "name": "python",
   "nbconvert_exporter": "python",
   "pygments_lexer": "ipython2",
   "version": "2.7.6"
  }
 },
 "nbformat": 4,
 "nbformat_minor": 0
}
