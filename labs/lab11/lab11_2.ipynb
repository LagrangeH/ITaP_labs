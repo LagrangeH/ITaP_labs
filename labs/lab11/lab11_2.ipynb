{
 "cells": [
  {
   "cell_type": "code",
   "execution_count": 1,
   "metadata": {
    "collapsed": true
   },
   "outputs": [],
   "source": [
    "import yaml\n",
    "from pprint import pprint"
   ]
  },
  {
   "cell_type": "code",
   "execution_count": 2,
   "outputs": [
    {
     "name": "stdout",
     "output_type": "stream",
     "text": [
      "{'interfaces': {'Ethernet1': {'mode': 'access', 'vlan': 10},\n",
      "                'Ethernet2': {'mode': 'access', 'vlan': 20},\n",
      "                'Ethernet3': {'mode': 'trunk',\n",
      "                              'native_vlan': 1,\n",
      "                              'trunk_vlans': 'all'}}}\n"
     ]
    }
   ],
   "source": [
    "with open('lab11_2_yaml.yml') as file:\n",
    "    pprint(yaml.safe_load(file))"
   ],
   "metadata": {
    "collapsed": false
   }
  }
 ],
 "metadata": {
  "kernelspec": {
   "display_name": "Python 3",
   "language": "python",
   "name": "python3"
  },
  "language_info": {
   "codemirror_mode": {
    "name": "ipython",
    "version": 2
   },
   "file_extension": ".py",
   "mimetype": "text/x-python",
   "name": "python",
   "nbconvert_exporter": "python",
   "pygments_lexer": "ipython2",
   "version": "2.7.6"
  }
 },
 "nbformat": 4,
 "nbformat_minor": 0
}
